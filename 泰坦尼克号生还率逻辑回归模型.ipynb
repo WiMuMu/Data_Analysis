{
 "cells": [
  {
   "cell_type": "markdown",
   "id": "208b4c9d-ea99-468a-9ef8-263ba574e5a4",
   "metadata": {},
   "source": [
    "# 泰坦尼克号生还率逻辑回归模型的训练与预测"
   ]
  },
  {
   "cell_type": "markdown",
   "id": "ef665e47-bb68-42e4-b359-bf6759c58a23",
   "metadata": {},
   "source": [
    "## 一、数据来源与说明"
   ]
  },
  {
   "cell_type": "markdown",
   "id": "ca83cb1c-e27e-4040-bb18-bdb21c1d3d65",
   "metadata": {
    "jp-MarkdownHeadingCollapsed": true
   },
   "source": [
    "### （一）数据来源"
   ]
  },
  {
   "cell_type": "markdown",
   "id": "1f883b5f-c385-4b75-8917-54cf7732cd3c",
   "metadata": {},
   "source": [
    "        数据来源于Kaggle社区发布，用于对泰坦尼克号的所有生存数据做技术分析。"
   ]
  },
  {
   "cell_type": "markdown",
   "id": "0368d7f5-56ff-42af-89ee-2e166adf2e8c",
   "metadata": {
    "jp-MarkdownHeadingCollapsed": true
   },
   "source": [
    "### （二）数据说明"
   ]
  },
  {
   "cell_type": "markdown",
   "id": "91913785-0e28-47dd-968c-bed05eba2566",
   "metadata": {
    "jp-MarkdownHeadingCollapsed": true
   },
   "source": [
    "### 数据中各个列名的含义：\n",
    "PassengerId：乘客编号<br>\n",
    "Survived:生还概率<br>\n",
    "Pclass：船舱等级<br>\n",
    "Name：乘客姓名<br>\n",
    "Sex：乘客性别<br>\n",
    "Age：乘客年龄<br>\n",
    "SibSp：同代直系亲属人数<br>\n",
    "Parch：不同代直系亲属人数<br>\n",
    "Ticket：船票编号<br>\n",
    "Ticket：船票价格<br>\n",
    "Cabin:客舱号<br>\n",
    "Embark：登船港口"
   ]
  },
  {
   "cell_type": "markdown",
   "id": "f70f5b5b-e500-4048-82ed-ada323d23e89",
   "metadata": {
    "jp-MarkdownHeadingCollapsed": true
   },
   "source": [
    "## 二、分析内容"
   ]
  },
  {
   "cell_type": "markdown",
   "id": "29873f09-e3ab-46b7-bbac-c81475f3d12b",
   "metadata": {},
   "source": [
    "     通过训练数据建立逻辑回归模型，用于预测泰坦尼克号的生还概率，并解读模型结果。之后用预测数据进行试测。"
   ]
  },
  {
   "cell_type": "markdown",
   "id": "a5fff9d2-b8b7-4a8a-aa41-8bd420577acd",
   "metadata": {},
   "source": [
    "## 三、分析流程"
   ]
  },
  {
   "cell_type": "markdown",
   "id": "57e7e458-5ca4-4338-ab97-6df4e8b8480f",
   "metadata": {
    "jp-MarkdownHeadingCollapsed": true
   },
   "source": [
    "### （一）读取与清理数据"
   ]
  },
  {
   "cell_type": "markdown",
   "id": "37618592-39ef-459e-94ba-c739bbafba7b",
   "metadata": {
    "jp-MarkdownHeadingCollapsed": true
   },
   "source": [
    "#### 1.数据读取"
   ]
  },
  {
   "cell_type": "code",
   "execution_count": 1,
   "id": "94ede909-f669-4377-bd0f-56f72a4f66e3",
   "metadata": {},
   "outputs": [],
   "source": [
    "import pandas as pd"
   ]
  },
  {
   "cell_type": "code",
   "execution_count": 2,
   "id": "e42e81f9-2c77-4e8f-bc3d-8b238f14fcd0",
   "metadata": {},
   "outputs": [],
   "source": [
    "survival = pd.read_csv(r\"C:\\Users\\52699\\Desktop\\数据集\\泰坦尼克号生存数据\\train.csv\")"
   ]
  },
  {
   "cell_type": "code",
   "execution_count": 3,
   "id": "2bdba5e6-2174-4325-86ec-33c5e3702143",
   "metadata": {},
   "outputs": [
    {
     "data": {
      "text/html": [
       "<div>\n",
       "<style scoped>\n",
       "    .dataframe tbody tr th:only-of-type {\n",
       "        vertical-align: middle;\n",
       "    }\n",
       "\n",
       "    .dataframe tbody tr th {\n",
       "        vertical-align: top;\n",
       "    }\n",
       "\n",
       "    .dataframe thead th {\n",
       "        text-align: right;\n",
       "    }\n",
       "</style>\n",
       "<table border=\"1\" class=\"dataframe\">\n",
       "  <thead>\n",
       "    <tr style=\"text-align: right;\">\n",
       "      <th></th>\n",
       "      <th>PassengerId</th>\n",
       "      <th>Survived</th>\n",
       "      <th>Pclass</th>\n",
       "      <th>Name</th>\n",
       "      <th>Sex</th>\n",
       "      <th>Age</th>\n",
       "      <th>SibSp</th>\n",
       "      <th>Parch</th>\n",
       "      <th>Ticket</th>\n",
       "      <th>Fare</th>\n",
       "      <th>Cabin</th>\n",
       "      <th>Embarked</th>\n",
       "    </tr>\n",
       "  </thead>\n",
       "  <tbody>\n",
       "    <tr>\n",
       "      <th>0</th>\n",
       "      <td>1</td>\n",
       "      <td>0</td>\n",
       "      <td>3</td>\n",
       "      <td>Braund, Mr. Owen Harris</td>\n",
       "      <td>male</td>\n",
       "      <td>22.0</td>\n",
       "      <td>1</td>\n",
       "      <td>0</td>\n",
       "      <td>A/5 21171</td>\n",
       "      <td>7.2500</td>\n",
       "      <td>NaN</td>\n",
       "      <td>S</td>\n",
       "    </tr>\n",
       "    <tr>\n",
       "      <th>1</th>\n",
       "      <td>2</td>\n",
       "      <td>1</td>\n",
       "      <td>1</td>\n",
       "      <td>Cumings, Mrs. John Bradley (Florence Briggs Th...</td>\n",
       "      <td>female</td>\n",
       "      <td>38.0</td>\n",
       "      <td>1</td>\n",
       "      <td>0</td>\n",
       "      <td>PC 17599</td>\n",
       "      <td>71.2833</td>\n",
       "      <td>C85</td>\n",
       "      <td>C</td>\n",
       "    </tr>\n",
       "    <tr>\n",
       "      <th>2</th>\n",
       "      <td>3</td>\n",
       "      <td>1</td>\n",
       "      <td>3</td>\n",
       "      <td>Heikkinen, Miss. Laina</td>\n",
       "      <td>female</td>\n",
       "      <td>26.0</td>\n",
       "      <td>0</td>\n",
       "      <td>0</td>\n",
       "      <td>STON/O2. 3101282</td>\n",
       "      <td>7.9250</td>\n",
       "      <td>NaN</td>\n",
       "      <td>S</td>\n",
       "    </tr>\n",
       "    <tr>\n",
       "      <th>3</th>\n",
       "      <td>4</td>\n",
       "      <td>1</td>\n",
       "      <td>1</td>\n",
       "      <td>Futrelle, Mrs. Jacques Heath (Lily May Peel)</td>\n",
       "      <td>female</td>\n",
       "      <td>35.0</td>\n",
       "      <td>1</td>\n",
       "      <td>0</td>\n",
       "      <td>113803</td>\n",
       "      <td>53.1000</td>\n",
       "      <td>C123</td>\n",
       "      <td>S</td>\n",
       "    </tr>\n",
       "    <tr>\n",
       "      <th>4</th>\n",
       "      <td>5</td>\n",
       "      <td>0</td>\n",
       "      <td>3</td>\n",
       "      <td>Allen, Mr. William Henry</td>\n",
       "      <td>male</td>\n",
       "      <td>35.0</td>\n",
       "      <td>0</td>\n",
       "      <td>0</td>\n",
       "      <td>373450</td>\n",
       "      <td>8.0500</td>\n",
       "      <td>NaN</td>\n",
       "      <td>S</td>\n",
       "    </tr>\n",
       "    <tr>\n",
       "      <th>...</th>\n",
       "      <td>...</td>\n",
       "      <td>...</td>\n",
       "      <td>...</td>\n",
       "      <td>...</td>\n",
       "      <td>...</td>\n",
       "      <td>...</td>\n",
       "      <td>...</td>\n",
       "      <td>...</td>\n",
       "      <td>...</td>\n",
       "      <td>...</td>\n",
       "      <td>...</td>\n",
       "      <td>...</td>\n",
       "    </tr>\n",
       "    <tr>\n",
       "      <th>886</th>\n",
       "      <td>887</td>\n",
       "      <td>0</td>\n",
       "      <td>2</td>\n",
       "      <td>Montvila, Rev. Juozas</td>\n",
       "      <td>male</td>\n",
       "      <td>27.0</td>\n",
       "      <td>0</td>\n",
       "      <td>0</td>\n",
       "      <td>211536</td>\n",
       "      <td>13.0000</td>\n",
       "      <td>NaN</td>\n",
       "      <td>S</td>\n",
       "    </tr>\n",
       "    <tr>\n",
       "      <th>887</th>\n",
       "      <td>888</td>\n",
       "      <td>1</td>\n",
       "      <td>1</td>\n",
       "      <td>Graham, Miss. Margaret Edith</td>\n",
       "      <td>female</td>\n",
       "      <td>19.0</td>\n",
       "      <td>0</td>\n",
       "      <td>0</td>\n",
       "      <td>112053</td>\n",
       "      <td>30.0000</td>\n",
       "      <td>B42</td>\n",
       "      <td>S</td>\n",
       "    </tr>\n",
       "    <tr>\n",
       "      <th>888</th>\n",
       "      <td>889</td>\n",
       "      <td>0</td>\n",
       "      <td>3</td>\n",
       "      <td>Johnston, Miss. Catherine Helen \"Carrie\"</td>\n",
       "      <td>female</td>\n",
       "      <td>NaN</td>\n",
       "      <td>1</td>\n",
       "      <td>2</td>\n",
       "      <td>W./C. 6607</td>\n",
       "      <td>23.4500</td>\n",
       "      <td>NaN</td>\n",
       "      <td>S</td>\n",
       "    </tr>\n",
       "    <tr>\n",
       "      <th>889</th>\n",
       "      <td>890</td>\n",
       "      <td>1</td>\n",
       "      <td>1</td>\n",
       "      <td>Behr, Mr. Karl Howell</td>\n",
       "      <td>male</td>\n",
       "      <td>26.0</td>\n",
       "      <td>0</td>\n",
       "      <td>0</td>\n",
       "      <td>111369</td>\n",
       "      <td>30.0000</td>\n",
       "      <td>C148</td>\n",
       "      <td>C</td>\n",
       "    </tr>\n",
       "    <tr>\n",
       "      <th>890</th>\n",
       "      <td>891</td>\n",
       "      <td>0</td>\n",
       "      <td>3</td>\n",
       "      <td>Dooley, Mr. Patrick</td>\n",
       "      <td>male</td>\n",
       "      <td>32.0</td>\n",
       "      <td>0</td>\n",
       "      <td>0</td>\n",
       "      <td>370376</td>\n",
       "      <td>7.7500</td>\n",
       "      <td>NaN</td>\n",
       "      <td>Q</td>\n",
       "    </tr>\n",
       "  </tbody>\n",
       "</table>\n",
       "<p>891 rows × 12 columns</p>\n",
       "</div>"
      ],
      "text/plain": [
       "     PassengerId  Survived  Pclass  \\\n",
       "0              1         0       3   \n",
       "1              2         1       1   \n",
       "2              3         1       3   \n",
       "3              4         1       1   \n",
       "4              5         0       3   \n",
       "..           ...       ...     ...   \n",
       "886          887         0       2   \n",
       "887          888         1       1   \n",
       "888          889         0       3   \n",
       "889          890         1       1   \n",
       "890          891         0       3   \n",
       "\n",
       "                                                  Name     Sex   Age  SibSp  \\\n",
       "0                              Braund, Mr. Owen Harris    male  22.0      1   \n",
       "1    Cumings, Mrs. John Bradley (Florence Briggs Th...  female  38.0      1   \n",
       "2                               Heikkinen, Miss. Laina  female  26.0      0   \n",
       "3         Futrelle, Mrs. Jacques Heath (Lily May Peel)  female  35.0      1   \n",
       "4                             Allen, Mr. William Henry    male  35.0      0   \n",
       "..                                                 ...     ...   ...    ...   \n",
       "886                              Montvila, Rev. Juozas    male  27.0      0   \n",
       "887                       Graham, Miss. Margaret Edith  female  19.0      0   \n",
       "888           Johnston, Miss. Catherine Helen \"Carrie\"  female   NaN      1   \n",
       "889                              Behr, Mr. Karl Howell    male  26.0      0   \n",
       "890                                Dooley, Mr. Patrick    male  32.0      0   \n",
       "\n",
       "     Parch            Ticket     Fare Cabin Embarked  \n",
       "0        0         A/5 21171   7.2500   NaN        S  \n",
       "1        0          PC 17599  71.2833   C85        C  \n",
       "2        0  STON/O2. 3101282   7.9250   NaN        S  \n",
       "3        0            113803  53.1000  C123        S  \n",
       "4        0            373450   8.0500   NaN        S  \n",
       "..     ...               ...      ...   ...      ...  \n",
       "886      0            211536  13.0000   NaN        S  \n",
       "887      0            112053  30.0000   B42        S  \n",
       "888      2        W./C. 6607  23.4500   NaN        S  \n",
       "889      0            111369  30.0000  C148        C  \n",
       "890      0            370376   7.7500   NaN        Q  \n",
       "\n",
       "[891 rows x 12 columns]"
      ]
     },
     "execution_count": 3,
     "metadata": {},
     "output_type": "execute_result"
    }
   ],
   "source": [
    "survival"
   ]
  },
  {
   "cell_type": "markdown",
   "id": "5284ddae-ebb3-4152-9142-cef6de7380f1",
   "metadata": {
    "jp-MarkdownHeadingCollapsed": true
   },
   "source": [
    "#### 2.数据清理"
   ]
  },
  {
   "cell_type": "markdown",
   "id": "dd0a90d1-e555-40ff-9803-0471e05df183",
   "metadata": {
    "jp-MarkdownHeadingCollapsed": true
   },
   "source": [
    "##### （1）整合列名"
   ]
  },
  {
   "cell_type": "markdown",
   "id": "1dbf6956-8cbd-487a-87ed-e253f1627742",
   "metadata": {},
   "source": [
    "        为方便后续模型的建立，此处将“乘客编号”“姓名”“船票信息”“船票费用”“客舱号”“登船港口”等与生存概率无关的变量删除，并将“同代直系亲属人数”和“不同代直系亲属人数”整合为“FamilyNum”（家庭成员数）。"
   ]
  },
  {
   "cell_type": "code",
   "execution_count": 4,
   "id": "124a3956-9a26-42af-a20f-205d225ad83e",
   "metadata": {},
   "outputs": [],
   "source": [
    "survival_train = survival.copy()"
   ]
  },
  {
   "cell_type": "code",
   "execution_count": 5,
   "id": "4849ed17-0452-436c-a96b-11711a98f129",
   "metadata": {},
   "outputs": [],
   "source": [
    "survival_train = survival_train.drop(['PassengerId','Name','Ticket','Fare','Cabin','Embarked'],axis = 1)"
   ]
  },
  {
   "cell_type": "code",
   "execution_count": 6,
   "id": "0ba84bf1-0562-4a57-8f9f-3c0cb267c2eb",
   "metadata": {},
   "outputs": [],
   "source": [
    "survival_train['FamilyNum'] = survival_train['SibSp'] + survival_train['Parch']"
   ]
  },
  {
   "cell_type": "code",
   "execution_count": 7,
   "id": "b246f874-744d-4ac7-9927-fd0265819345",
   "metadata": {},
   "outputs": [],
   "source": [
    "survival_train = survival_train.drop(['SibSp','Parch'],axis = 1)"
   ]
  },
  {
   "cell_type": "code",
   "execution_count": 8,
   "id": "f397aa1c-9ad1-4816-9c27-801bf0c90f8d",
   "metadata": {},
   "outputs": [
    {
     "data": {
      "text/html": [
       "<div>\n",
       "<style scoped>\n",
       "    .dataframe tbody tr th:only-of-type {\n",
       "        vertical-align: middle;\n",
       "    }\n",
       "\n",
       "    .dataframe tbody tr th {\n",
       "        vertical-align: top;\n",
       "    }\n",
       "\n",
       "    .dataframe thead th {\n",
       "        text-align: right;\n",
       "    }\n",
       "</style>\n",
       "<table border=\"1\" class=\"dataframe\">\n",
       "  <thead>\n",
       "    <tr style=\"text-align: right;\">\n",
       "      <th></th>\n",
       "      <th>Survived</th>\n",
       "      <th>Pclass</th>\n",
       "      <th>Sex</th>\n",
       "      <th>Age</th>\n",
       "      <th>FamilyNum</th>\n",
       "    </tr>\n",
       "  </thead>\n",
       "  <tbody>\n",
       "    <tr>\n",
       "      <th>0</th>\n",
       "      <td>0</td>\n",
       "      <td>3</td>\n",
       "      <td>male</td>\n",
       "      <td>22.0</td>\n",
       "      <td>1</td>\n",
       "    </tr>\n",
       "    <tr>\n",
       "      <th>1</th>\n",
       "      <td>1</td>\n",
       "      <td>1</td>\n",
       "      <td>female</td>\n",
       "      <td>38.0</td>\n",
       "      <td>1</td>\n",
       "    </tr>\n",
       "    <tr>\n",
       "      <th>2</th>\n",
       "      <td>1</td>\n",
       "      <td>3</td>\n",
       "      <td>female</td>\n",
       "      <td>26.0</td>\n",
       "      <td>0</td>\n",
       "    </tr>\n",
       "    <tr>\n",
       "      <th>3</th>\n",
       "      <td>1</td>\n",
       "      <td>1</td>\n",
       "      <td>female</td>\n",
       "      <td>35.0</td>\n",
       "      <td>1</td>\n",
       "    </tr>\n",
       "    <tr>\n",
       "      <th>4</th>\n",
       "      <td>0</td>\n",
       "      <td>3</td>\n",
       "      <td>male</td>\n",
       "      <td>35.0</td>\n",
       "      <td>0</td>\n",
       "    </tr>\n",
       "    <tr>\n",
       "      <th>...</th>\n",
       "      <td>...</td>\n",
       "      <td>...</td>\n",
       "      <td>...</td>\n",
       "      <td>...</td>\n",
       "      <td>...</td>\n",
       "    </tr>\n",
       "    <tr>\n",
       "      <th>886</th>\n",
       "      <td>0</td>\n",
       "      <td>2</td>\n",
       "      <td>male</td>\n",
       "      <td>27.0</td>\n",
       "      <td>0</td>\n",
       "    </tr>\n",
       "    <tr>\n",
       "      <th>887</th>\n",
       "      <td>1</td>\n",
       "      <td>1</td>\n",
       "      <td>female</td>\n",
       "      <td>19.0</td>\n",
       "      <td>0</td>\n",
       "    </tr>\n",
       "    <tr>\n",
       "      <th>888</th>\n",
       "      <td>0</td>\n",
       "      <td>3</td>\n",
       "      <td>female</td>\n",
       "      <td>NaN</td>\n",
       "      <td>3</td>\n",
       "    </tr>\n",
       "    <tr>\n",
       "      <th>889</th>\n",
       "      <td>1</td>\n",
       "      <td>1</td>\n",
       "      <td>male</td>\n",
       "      <td>26.0</td>\n",
       "      <td>0</td>\n",
       "    </tr>\n",
       "    <tr>\n",
       "      <th>890</th>\n",
       "      <td>0</td>\n",
       "      <td>3</td>\n",
       "      <td>male</td>\n",
       "      <td>32.0</td>\n",
       "      <td>0</td>\n",
       "    </tr>\n",
       "  </tbody>\n",
       "</table>\n",
       "<p>891 rows × 5 columns</p>\n",
       "</div>"
      ],
      "text/plain": [
       "     Survived  Pclass     Sex   Age  FamilyNum\n",
       "0           0       3    male  22.0          1\n",
       "1           1       1  female  38.0          1\n",
       "2           1       3  female  26.0          0\n",
       "3           1       1  female  35.0          1\n",
       "4           0       3    male  35.0          0\n",
       "..        ...     ...     ...   ...        ...\n",
       "886         0       2    male  27.0          0\n",
       "887         1       1  female  19.0          0\n",
       "888         0       3  female   NaN          3\n",
       "889         1       1    male  26.0          0\n",
       "890         0       3    male  32.0          0\n",
       "\n",
       "[891 rows x 5 columns]"
      ]
     },
     "execution_count": 8,
     "metadata": {},
     "output_type": "execute_result"
    }
   ],
   "source": [
    "survival_train"
   ]
  },
  {
   "cell_type": "markdown",
   "id": "fd43b2e3-1e8a-470b-a7d7-dbacfd53b7d7",
   "metadata": {
    "jp-MarkdownHeadingCollapsed": true
   },
   "source": [
    "##### （2）清理空值"
   ]
  },
  {
   "cell_type": "code",
   "execution_count": 9,
   "id": "f9a2906a-af22-4cbe-a7c5-b4c15c0971b3",
   "metadata": {},
   "outputs": [
    {
     "data": {
      "text/plain": [
       "Survived       0\n",
       "Pclass         0\n",
       "Sex            0\n",
       "Age          177\n",
       "FamilyNum      0\n",
       "dtype: int64"
      ]
     },
     "execution_count": 9,
     "metadata": {},
     "output_type": "execute_result"
    }
   ],
   "source": [
    "survival_train.isnull().sum()"
   ]
  },
  {
   "cell_type": "markdown",
   "id": "6a6748d8-35cb-4232-9a0d-b0f8fca98765",
   "metadata": {},
   "source": [
    "    根据检查，发现训练数据中的\"Age\"列存在177个数据缺失，会影响后续模型的建立与拟合，因此用所有数据的年龄平均值填补缺失值。"
   ]
  },
  {
   "cell_type": "code",
   "execution_count": 10,
   "id": "93280b56-f716-42c3-a257-d60118598e0e",
   "metadata": {},
   "outputs": [],
   "source": [
    "survival_train = survival_train.fillna(survival_train['Age'].mean())"
   ]
  },
  {
   "cell_type": "markdown",
   "id": "3465bc94-778a-4819-add1-4a9e434adaaf",
   "metadata": {},
   "source": [
    "##### （3）转换数据类型"
   ]
  },
  {
   "cell_type": "markdown",
   "id": "8b96b770-eecb-4943-8090-b1437e540403",
   "metadata": {},
   "source": [
    "        根据数据可知，Age变量被识别为了float类型，应为int类型。因此进行转化"
   ]
  },
  {
   "cell_type": "code",
   "execution_count": 11,
   "id": "57bab1e6-06fa-4852-a858-e26639cb4a57",
   "metadata": {},
   "outputs": [],
   "source": [
    "survival_train['Age'] = survival_train['Age'].astype(int)"
   ]
  },
  {
   "cell_type": "markdown",
   "id": "d17fc676-f49b-42cb-a4e2-b466779ca246",
   "metadata": {},
   "source": [
    "        最终清理好的训练模型："
   ]
  },
  {
   "cell_type": "code",
   "execution_count": 12,
   "id": "c671ca91-00a9-4053-bdf7-73eecccfcad6",
   "metadata": {},
   "outputs": [
    {
     "data": {
      "text/html": [
       "<div>\n",
       "<style scoped>\n",
       "    .dataframe tbody tr th:only-of-type {\n",
       "        vertical-align: middle;\n",
       "    }\n",
       "\n",
       "    .dataframe tbody tr th {\n",
       "        vertical-align: top;\n",
       "    }\n",
       "\n",
       "    .dataframe thead th {\n",
       "        text-align: right;\n",
       "    }\n",
       "</style>\n",
       "<table border=\"1\" class=\"dataframe\">\n",
       "  <thead>\n",
       "    <tr style=\"text-align: right;\">\n",
       "      <th></th>\n",
       "      <th>Survived</th>\n",
       "      <th>Pclass</th>\n",
       "      <th>Sex</th>\n",
       "      <th>Age</th>\n",
       "      <th>FamilyNum</th>\n",
       "    </tr>\n",
       "  </thead>\n",
       "  <tbody>\n",
       "    <tr>\n",
       "      <th>0</th>\n",
       "      <td>0</td>\n",
       "      <td>3</td>\n",
       "      <td>male</td>\n",
       "      <td>22</td>\n",
       "      <td>1</td>\n",
       "    </tr>\n",
       "    <tr>\n",
       "      <th>1</th>\n",
       "      <td>1</td>\n",
       "      <td>1</td>\n",
       "      <td>female</td>\n",
       "      <td>38</td>\n",
       "      <td>1</td>\n",
       "    </tr>\n",
       "    <tr>\n",
       "      <th>2</th>\n",
       "      <td>1</td>\n",
       "      <td>3</td>\n",
       "      <td>female</td>\n",
       "      <td>26</td>\n",
       "      <td>0</td>\n",
       "    </tr>\n",
       "    <tr>\n",
       "      <th>3</th>\n",
       "      <td>1</td>\n",
       "      <td>1</td>\n",
       "      <td>female</td>\n",
       "      <td>35</td>\n",
       "      <td>1</td>\n",
       "    </tr>\n",
       "    <tr>\n",
       "      <th>4</th>\n",
       "      <td>0</td>\n",
       "      <td>3</td>\n",
       "      <td>male</td>\n",
       "      <td>35</td>\n",
       "      <td>0</td>\n",
       "    </tr>\n",
       "  </tbody>\n",
       "</table>\n",
       "</div>"
      ],
      "text/plain": [
       "   Survived  Pclass     Sex  Age  FamilyNum\n",
       "0         0       3    male   22          1\n",
       "1         1       1  female   38          1\n",
       "2         1       3  female   26          0\n",
       "3         1       1  female   35          1\n",
       "4         0       3    male   35          0"
      ]
     },
     "execution_count": 12,
     "metadata": {},
     "output_type": "execute_result"
    }
   ],
   "source": [
    "survival_train.head()"
   ]
  },
  {
   "cell_type": "markdown",
   "id": "ca787d5e-4fb9-4cf0-99c2-57da1fbb1cff",
   "metadata": {
    "jp-MarkdownHeadingCollapsed": true
   },
   "source": [
    "### （二）模型建立与拟合"
   ]
  },
  {
   "cell_type": "markdown",
   "id": "ea584d1f-a23b-4749-80aa-7f10c2095b69",
   "metadata": {
    "jp-MarkdownHeadingCollapsed": true
   },
   "source": [
    "#### 1.建立并拟合模型"
   ]
  },
  {
   "cell_type": "code",
   "execution_count": 13,
   "id": "b4840584-1911-4a9b-87f0-db1fd59e0131",
   "metadata": {},
   "outputs": [],
   "source": [
    "import statsmodels.api as sm"
   ]
  },
  {
   "cell_type": "code",
   "execution_count": 14,
   "id": "b1233a34-9cb0-43ce-a1b0-d5afab8e14b4",
   "metadata": {},
   "outputs": [],
   "source": [
    "# 引入虚拟变量\n",
    "survival_train_dummies = pd.get_dummies(data = survival_train,columns = ['Pclass','Sex'],dtype = int,drop_first = True)"
   ]
  },
  {
   "cell_type": "code",
   "execution_count": 15,
   "id": "1b366a78-8ccc-44f9-8461-32fe90ce4d9b",
   "metadata": {},
   "outputs": [
    {
     "data": {
      "text/html": [
       "<div>\n",
       "<style scoped>\n",
       "    .dataframe tbody tr th:only-of-type {\n",
       "        vertical-align: middle;\n",
       "    }\n",
       "\n",
       "    .dataframe tbody tr th {\n",
       "        vertical-align: top;\n",
       "    }\n",
       "\n",
       "    .dataframe thead th {\n",
       "        text-align: right;\n",
       "    }\n",
       "</style>\n",
       "<table border=\"1\" class=\"dataframe\">\n",
       "  <thead>\n",
       "    <tr style=\"text-align: right;\">\n",
       "      <th></th>\n",
       "      <th>Survived</th>\n",
       "      <th>Age</th>\n",
       "      <th>FamilyNum</th>\n",
       "      <th>Pclass_2</th>\n",
       "      <th>Pclass_3</th>\n",
       "      <th>Sex_male</th>\n",
       "    </tr>\n",
       "  </thead>\n",
       "  <tbody>\n",
       "    <tr>\n",
       "      <th>Survived</th>\n",
       "      <td>1.000000</td>\n",
       "      <td>-0.067809</td>\n",
       "      <td>0.016639</td>\n",
       "      <td>0.093349</td>\n",
       "      <td>-0.322308</td>\n",
       "      <td>-0.543351</td>\n",
       "    </tr>\n",
       "    <tr>\n",
       "      <th>Age</th>\n",
       "      <td>-0.067809</td>\n",
       "      <td>1.000000</td>\n",
       "      <td>-0.247370</td>\n",
       "      <td>0.010199</td>\n",
       "      <td>-0.285608</td>\n",
       "      <td>0.082533</td>\n",
       "    </tr>\n",
       "    <tr>\n",
       "      <th>FamilyNum</th>\n",
       "      <td>0.016639</td>\n",
       "      <td>-0.247370</td>\n",
       "      <td>1.000000</td>\n",
       "      <td>-0.038594</td>\n",
       "      <td>0.071142</td>\n",
       "      <td>-0.200988</td>\n",
       "    </tr>\n",
       "    <tr>\n",
       "      <th>Pclass_2</th>\n",
       "      <td>0.093349</td>\n",
       "      <td>0.010199</td>\n",
       "      <td>-0.038594</td>\n",
       "      <td>1.000000</td>\n",
       "      <td>-0.565210</td>\n",
       "      <td>-0.064746</td>\n",
       "    </tr>\n",
       "    <tr>\n",
       "      <th>Pclass_3</th>\n",
       "      <td>-0.322308</td>\n",
       "      <td>-0.285608</td>\n",
       "      <td>0.071142</td>\n",
       "      <td>-0.565210</td>\n",
       "      <td>1.000000</td>\n",
       "      <td>0.137143</td>\n",
       "    </tr>\n",
       "    <tr>\n",
       "      <th>Sex_male</th>\n",
       "      <td>-0.543351</td>\n",
       "      <td>0.082533</td>\n",
       "      <td>-0.200988</td>\n",
       "      <td>-0.064746</td>\n",
       "      <td>0.137143</td>\n",
       "      <td>1.000000</td>\n",
       "    </tr>\n",
       "  </tbody>\n",
       "</table>\n",
       "</div>"
      ],
      "text/plain": [
       "           Survived       Age  FamilyNum  Pclass_2  Pclass_3  Sex_male\n",
       "Survived   1.000000 -0.067809   0.016639  0.093349 -0.322308 -0.543351\n",
       "Age       -0.067809  1.000000  -0.247370  0.010199 -0.285608  0.082533\n",
       "FamilyNum  0.016639 -0.247370   1.000000 -0.038594  0.071142 -0.200988\n",
       "Pclass_2   0.093349  0.010199  -0.038594  1.000000 -0.565210 -0.064746\n",
       "Pclass_3  -0.322308 -0.285608   0.071142 -0.565210  1.000000  0.137143\n",
       "Sex_male  -0.543351  0.082533  -0.200988 -0.064746  0.137143  1.000000"
      ]
     },
     "execution_count": 15,
     "metadata": {},
     "output_type": "execute_result"
    }
   ],
   "source": [
    "# 检查解释变量之间的相关性\n",
    "survival_train_dummies.corr()"
   ]
  },
  {
   "cell_type": "markdown",
   "id": "68a45fed-5624-48c6-8d48-f4600c0e8a8d",
   "metadata": {},
   "source": [
    "        根据相关系数检验表，以及系数大于0.8为强相关的标准，可以发现清理后的数据不存在多重共线性问题，可进行下一步的模型建立与拟合。"
   ]
  },
  {
   "cell_type": "code",
   "execution_count": 16,
   "id": "eb0641ce-000f-4a9b-8d60-3fd83feaaf67",
   "metadata": {},
   "outputs": [],
   "source": [
    "# 独立出解释变量和因变量\n",
    "X = survival_train_dummies.drop('Survived',axis = 1)\n",
    "Y = survival_train_dummies['Survived']"
   ]
  },
  {
   "cell_type": "code",
   "execution_count": 17,
   "id": "4ea0ded3-e755-45df-9cf0-2618ecb80f46",
   "metadata": {},
   "outputs": [
    {
     "name": "stdout",
     "output_type": "stream",
     "text": [
      "Optimization terminated successfully.\n",
      "         Current function value: 0.444686\n",
      "         Iterations 6\n"
     ]
    },
    {
     "data": {
      "text/html": [
       "<table class=\"simpletable\">\n",
       "<caption>Logit Regression Results</caption>\n",
       "<tr>\n",
       "  <th>Dep. Variable:</th>       <td>Survived</td>     <th>  No. Observations:  </th>  <td>   891</td>  \n",
       "</tr>\n",
       "<tr>\n",
       "  <th>Model:</th>                 <td>Logit</td>      <th>  Df Residuals:      </th>  <td>   885</td>  \n",
       "</tr>\n",
       "<tr>\n",
       "  <th>Method:</th>                 <td>MLE</td>       <th>  Df Model:          </th>  <td>     5</td>  \n",
       "</tr>\n",
       "<tr>\n",
       "  <th>Date:</th>            <td>Thu, 22 Aug 2024</td> <th>  Pseudo R-squ.:     </th>  <td>0.3322</td>  \n",
       "</tr>\n",
       "<tr>\n",
       "  <th>Time:</th>                <td>17:33:37</td>     <th>  Log-Likelihood:    </th> <td> -396.22</td> \n",
       "</tr>\n",
       "<tr>\n",
       "  <th>converged:</th>             <td>True</td>       <th>  LL-Null:           </th> <td> -593.33</td> \n",
       "</tr>\n",
       "<tr>\n",
       "  <th>Covariance Type:</th>     <td>nonrobust</td>    <th>  LLR p-value:       </th> <td>5.211e-83</td>\n",
       "</tr>\n",
       "</table>\n",
       "<table class=\"simpletable\">\n",
       "<tr>\n",
       "      <td></td>         <th>coef</th>     <th>std err</th>      <th>z</th>      <th>P>|z|</th>  <th>[0.025</th>    <th>0.975]</th>  \n",
       "</tr>\n",
       "<tr>\n",
       "  <th>const</th>     <td>    4.0512</td> <td>    0.403</td> <td>   10.058</td> <td> 0.000</td> <td>    3.262</td> <td>    4.841</td>\n",
       "</tr>\n",
       "<tr>\n",
       "  <th>Age</th>       <td>   -0.0394</td> <td>    0.008</td> <td>   -5.055</td> <td> 0.000</td> <td>   -0.055</td> <td>   -0.024</td>\n",
       "</tr>\n",
       "<tr>\n",
       "  <th>FamilyNum</th> <td>   -0.2176</td> <td>    0.064</td> <td>   -3.373</td> <td> 0.001</td> <td>   -0.344</td> <td>   -0.091</td>\n",
       "</tr>\n",
       "<tr>\n",
       "  <th>Pclass_2</th>  <td>   -1.1766</td> <td>    0.261</td> <td>   -4.509</td> <td> 0.000</td> <td>   -1.688</td> <td>   -0.665</td>\n",
       "</tr>\n",
       "<tr>\n",
       "  <th>Pclass_3</th>  <td>   -2.3480</td> <td>    0.243</td> <td>   -9.677</td> <td> 0.000</td> <td>   -2.824</td> <td>   -1.872</td>\n",
       "</tr>\n",
       "<tr>\n",
       "  <th>Sex_male</th>  <td>   -2.7851</td> <td>    0.198</td> <td>  -14.072</td> <td> 0.000</td> <td>   -3.173</td> <td>   -2.397</td>\n",
       "</tr>\n",
       "</table>"
      ],
      "text/latex": [
       "\\begin{center}\n",
       "\\begin{tabular}{lclc}\n",
       "\\toprule\n",
       "\\textbf{Dep. Variable:}   &     Survived     & \\textbf{  No. Observations:  } &      891    \\\\\n",
       "\\textbf{Model:}           &      Logit       & \\textbf{  Df Residuals:      } &      885    \\\\\n",
       "\\textbf{Method:}          &       MLE        & \\textbf{  Df Model:          } &        5    \\\\\n",
       "\\textbf{Date:}            & Thu, 22 Aug 2024 & \\textbf{  Pseudo R-squ.:     } &   0.3322    \\\\\n",
       "\\textbf{Time:}            &     17:33:37     & \\textbf{  Log-Likelihood:    } &   -396.22   \\\\\n",
       "\\textbf{converged:}       &       True       & \\textbf{  LL-Null:           } &   -593.33   \\\\\n",
       "\\textbf{Covariance Type:} &    nonrobust     & \\textbf{  LLR p-value:       } & 5.211e-83   \\\\\n",
       "\\bottomrule\n",
       "\\end{tabular}\n",
       "\\begin{tabular}{lcccccc}\n",
       "                   & \\textbf{coef} & \\textbf{std err} & \\textbf{z} & \\textbf{P$> |$z$|$} & \\textbf{[0.025} & \\textbf{0.975]}  \\\\\n",
       "\\midrule\n",
       "\\textbf{const}     &       4.0512  &        0.403     &    10.058  &         0.000        &        3.262    &        4.841     \\\\\n",
       "\\textbf{Age}       &      -0.0394  &        0.008     &    -5.055  &         0.000        &       -0.055    &       -0.024     \\\\\n",
       "\\textbf{FamilyNum} &      -0.2176  &        0.064     &    -3.373  &         0.001        &       -0.344    &       -0.091     \\\\\n",
       "\\textbf{Pclass\\_2} &      -1.1766  &        0.261     &    -4.509  &         0.000        &       -1.688    &       -0.665     \\\\\n",
       "\\textbf{Pclass\\_3} &      -2.3480  &        0.243     &    -9.677  &         0.000        &       -2.824    &       -1.872     \\\\\n",
       "\\textbf{Sex\\_male} &      -2.7851  &        0.198     &   -14.072  &         0.000        &       -3.173    &       -2.397     \\\\\n",
       "\\bottomrule\n",
       "\\end{tabular}\n",
       "%\\caption{Logit Regression Results}\n",
       "\\end{center}"
      ],
      "text/plain": [
       "<class 'statsmodels.iolib.summary.Summary'>\n",
       "\"\"\"\n",
       "                           Logit Regression Results                           \n",
       "==============================================================================\n",
       "Dep. Variable:               Survived   No. Observations:                  891\n",
       "Model:                          Logit   Df Residuals:                      885\n",
       "Method:                           MLE   Df Model:                            5\n",
       "Date:                Thu, 22 Aug 2024   Pseudo R-squ.:                  0.3322\n",
       "Time:                        17:33:37   Log-Likelihood:                -396.22\n",
       "converged:                       True   LL-Null:                       -593.33\n",
       "Covariance Type:            nonrobust   LLR p-value:                 5.211e-83\n",
       "==============================================================================\n",
       "                 coef    std err          z      P>|z|      [0.025      0.975]\n",
       "------------------------------------------------------------------------------\n",
       "const          4.0512      0.403     10.058      0.000       3.262       4.841\n",
       "Age           -0.0394      0.008     -5.055      0.000      -0.055      -0.024\n",
       "FamilyNum     -0.2176      0.064     -3.373      0.001      -0.344      -0.091\n",
       "Pclass_2      -1.1766      0.261     -4.509      0.000      -1.688      -0.665\n",
       "Pclass_3      -2.3480      0.243     -9.677      0.000      -2.824      -1.872\n",
       "Sex_male      -2.7851      0.198    -14.072      0.000      -3.173      -2.397\n",
       "==============================================================================\n",
       "\"\"\""
      ]
     },
     "execution_count": 17,
     "metadata": {},
     "output_type": "execute_result"
    }
   ],
   "source": [
    "# 添加截距、建立并拟合模型\n",
    "X_with_constant = sm.add_constant(X)\n",
    "model_result = sm.Logit(Y,X_with_constant).fit()\n",
    "model_result.summary()"
   ]
  },
  {
   "cell_type": "markdown",
   "id": "3f2727cc-978e-417b-989e-e77f6e3cff1a",
   "metadata": {
    "jp-MarkdownHeadingCollapsed": true
   },
   "source": [
    "#### 2.模型结果解读"
   ]
  },
  {
   "cell_type": "markdown",
   "id": "7b5b3c02-3859-4a56-b33f-b653fb04aac2",
   "metadata": {},
   "source": [
    "        根据模型拟合结果可知，模型的决定系数R²为0.3322，解释变量能较好地解释因变量的变异程度。各项解释变量系数的P值均小于0.05，说明模型系数显著，解释变量能够显著影响因变量。 由于逻辑回归模型的本质是线性回归+sigmoid函数，对解释变量系数的解读需要进行相应的计算。\n",
    "        在此处开展计算过程："
   ]
  },
  {
   "cell_type": "code",
   "execution_count": 18,
   "id": "e3f3e437-63f3-4cfa-b248-68c249fedc09",
   "metadata": {},
   "outputs": [],
   "source": [
    "import numpy as np"
   ]
  },
  {
   "cell_type": "code",
   "execution_count": 19,
   "id": "bb9e5163-fdbb-4637-814b-74fa1dac7a6e",
   "metadata": {},
   "outputs": [
    {
     "data": {
      "text/plain": [
       "0.9613660857925073"
      ]
     },
     "execution_count": 19,
     "metadata": {},
     "output_type": "execute_result"
    }
   ],
   "source": [
    "# Age\n",
    "np.exp(-0.0394)"
   ]
  },
  {
   "cell_type": "code",
   "execution_count": 20,
   "id": "37e61988-d61d-4135-8962-e537724bb324",
   "metadata": {},
   "outputs": [
    {
     "data": {
      "text/plain": [
       "0.8044471561818398"
      ]
     },
     "execution_count": 20,
     "metadata": {},
     "output_type": "execute_result"
    }
   ],
   "source": [
    "# FamilyNum\n",
    "np.exp(-0.2176)"
   ]
  },
  {
   "cell_type": "code",
   "execution_count": 21,
   "id": "ec09114f-4335-4084-baab-9523cb848d3a",
   "metadata": {},
   "outputs": [
    {
     "data": {
      "text/plain": [
       "0.3083252643980769"
      ]
     },
     "execution_count": 21,
     "metadata": {},
     "output_type": "execute_result"
    }
   ],
   "source": [
    "# Pclass_2\n",
    "np.exp(-1.1766)"
   ]
  },
  {
   "cell_type": "code",
   "execution_count": 22,
   "id": "26a7f6ce-6d94-4010-a224-0d4dfc6e5aae",
   "metadata": {},
   "outputs": [
    {
     "data": {
      "text/plain": [
       "0.09556009140552765"
      ]
     },
     "execution_count": 22,
     "metadata": {},
     "output_type": "execute_result"
    }
   ],
   "source": [
    "# Pclass_3\n",
    "np.exp(-2.348)"
   ]
  },
  {
   "cell_type": "code",
   "execution_count": 23,
   "id": "9c1a0829-d9c1-448f-ad16-73f4116d4218",
   "metadata": {},
   "outputs": [
    {
     "data": {
      "text/plain": [
       "0.06172291643069087"
      ]
     },
     "execution_count": 23,
     "metadata": {},
     "output_type": "execute_result"
    }
   ],
   "source": [
    "# Sex_male\n",
    "np.exp(-2.7851)"
   ]
  },
  {
   "cell_type": "markdown",
   "id": "297ec136-a731-43fb-8a34-b7ea7be358b4",
   "metadata": {},
   "source": [
    "    结论：年龄、家庭成员数、舱位等级、性别均会对生存概率造成显著影响。\n",
    "        年龄每增加一岁，生还的概率降低（1-0.96）= 4%；\n",
    "        家庭成员每增加一个，生还概率降低（1-0.8）= 2%；\n",
    "        与头等舱的乘客相比，二等舱的生还概率低了（1-0.3）= 7%，三等舱的生还概率低了（1-0.095）= 90% 。\n",
    "        男性比女性的生还概率低（1-0.06）=94%左右。"
   ]
  },
  {
   "cell_type": "markdown",
   "id": "dcf324f2-1da3-4820-9fc1-5a96f75637dc",
   "metadata": {
    "jp-MarkdownHeadingCollapsed": true
   },
   "source": [
    "### （三）模型预测"
   ]
  },
  {
   "cell_type": "markdown",
   "id": "65fe1736-a707-4eb8-ace5-1ac067ad077d",
   "metadata": {
    "jp-MarkdownHeadingCollapsed": true
   },
   "source": [
    "#### 1.导入预测模型并清理格式"
   ]
  },
  {
   "cell_type": "code",
   "execution_count": 24,
   "id": "8ff2309c-9a4e-4144-9fcd-5536a7ce82ad",
   "metadata": {},
   "outputs": [],
   "source": [
    "survival_test = pd.read_csv(r\"C:\\Users\\52699\\Desktop\\数据集\\泰坦尼克号生存数据\\test.csv\")"
   ]
  },
  {
   "cell_type": "code",
   "execution_count": 25,
   "id": "1175ebe2-1a8b-4733-86d5-2bc2f5b5508d",
   "metadata": {},
   "outputs": [
    {
     "data": {
      "text/html": [
       "<div>\n",
       "<style scoped>\n",
       "    .dataframe tbody tr th:only-of-type {\n",
       "        vertical-align: middle;\n",
       "    }\n",
       "\n",
       "    .dataframe tbody tr th {\n",
       "        vertical-align: top;\n",
       "    }\n",
       "\n",
       "    .dataframe thead th {\n",
       "        text-align: right;\n",
       "    }\n",
       "</style>\n",
       "<table border=\"1\" class=\"dataframe\">\n",
       "  <thead>\n",
       "    <tr style=\"text-align: right;\">\n",
       "      <th></th>\n",
       "      <th>PassengerId</th>\n",
       "      <th>Pclass</th>\n",
       "      <th>Name</th>\n",
       "      <th>Sex</th>\n",
       "      <th>Age</th>\n",
       "      <th>SibSp</th>\n",
       "      <th>Parch</th>\n",
       "      <th>Ticket</th>\n",
       "      <th>Fare</th>\n",
       "      <th>Cabin</th>\n",
       "      <th>Embarked</th>\n",
       "    </tr>\n",
       "  </thead>\n",
       "  <tbody>\n",
       "    <tr>\n",
       "      <th>0</th>\n",
       "      <td>892</td>\n",
       "      <td>3</td>\n",
       "      <td>Kelly, Mr. James</td>\n",
       "      <td>male</td>\n",
       "      <td>34.5</td>\n",
       "      <td>0</td>\n",
       "      <td>0</td>\n",
       "      <td>330911</td>\n",
       "      <td>7.8292</td>\n",
       "      <td>NaN</td>\n",
       "      <td>Q</td>\n",
       "    </tr>\n",
       "    <tr>\n",
       "      <th>1</th>\n",
       "      <td>893</td>\n",
       "      <td>3</td>\n",
       "      <td>Wilkes, Mrs. James (Ellen Needs)</td>\n",
       "      <td>female</td>\n",
       "      <td>47.0</td>\n",
       "      <td>1</td>\n",
       "      <td>0</td>\n",
       "      <td>363272</td>\n",
       "      <td>7.0000</td>\n",
       "      <td>NaN</td>\n",
       "      <td>S</td>\n",
       "    </tr>\n",
       "    <tr>\n",
       "      <th>2</th>\n",
       "      <td>894</td>\n",
       "      <td>2</td>\n",
       "      <td>Myles, Mr. Thomas Francis</td>\n",
       "      <td>male</td>\n",
       "      <td>62.0</td>\n",
       "      <td>0</td>\n",
       "      <td>0</td>\n",
       "      <td>240276</td>\n",
       "      <td>9.6875</td>\n",
       "      <td>NaN</td>\n",
       "      <td>Q</td>\n",
       "    </tr>\n",
       "    <tr>\n",
       "      <th>3</th>\n",
       "      <td>895</td>\n",
       "      <td>3</td>\n",
       "      <td>Wirz, Mr. Albert</td>\n",
       "      <td>male</td>\n",
       "      <td>27.0</td>\n",
       "      <td>0</td>\n",
       "      <td>0</td>\n",
       "      <td>315154</td>\n",
       "      <td>8.6625</td>\n",
       "      <td>NaN</td>\n",
       "      <td>S</td>\n",
       "    </tr>\n",
       "    <tr>\n",
       "      <th>4</th>\n",
       "      <td>896</td>\n",
       "      <td>3</td>\n",
       "      <td>Hirvonen, Mrs. Alexander (Helga E Lindqvist)</td>\n",
       "      <td>female</td>\n",
       "      <td>22.0</td>\n",
       "      <td>1</td>\n",
       "      <td>1</td>\n",
       "      <td>3101298</td>\n",
       "      <td>12.2875</td>\n",
       "      <td>NaN</td>\n",
       "      <td>S</td>\n",
       "    </tr>\n",
       "  </tbody>\n",
       "</table>\n",
       "</div>"
      ],
      "text/plain": [
       "   PassengerId  Pclass                                          Name     Sex  \\\n",
       "0          892       3                              Kelly, Mr. James    male   \n",
       "1          893       3              Wilkes, Mrs. James (Ellen Needs)  female   \n",
       "2          894       2                     Myles, Mr. Thomas Francis    male   \n",
       "3          895       3                              Wirz, Mr. Albert    male   \n",
       "4          896       3  Hirvonen, Mrs. Alexander (Helga E Lindqvist)  female   \n",
       "\n",
       "    Age  SibSp  Parch   Ticket     Fare Cabin Embarked  \n",
       "0  34.5      0      0   330911   7.8292   NaN        Q  \n",
       "1  47.0      1      0   363272   7.0000   NaN        S  \n",
       "2  62.0      0      0   240276   9.6875   NaN        Q  \n",
       "3  27.0      0      0   315154   8.6625   NaN        S  \n",
       "4  22.0      1      1  3101298  12.2875   NaN        S  "
      ]
     },
     "execution_count": 25,
     "metadata": {},
     "output_type": "execute_result"
    }
   ],
   "source": [
    "survival_test.head()"
   ]
  },
  {
   "cell_type": "code",
   "execution_count": 26,
   "id": "9fda1ae5-73b4-458d-96d7-fa52e6eef693",
   "metadata": {},
   "outputs": [],
   "source": [
    "survival_test['FamilyNum'] = survival_test['SibSp'] + survival_test['Parch']"
   ]
  },
  {
   "cell_type": "code",
   "execution_count": 27,
   "id": "19500d42-7891-45f2-aeac-738df24b1e6d",
   "metadata": {},
   "outputs": [],
   "source": [
    "survival_test = survival_test.drop(['PassengerId','Name','SibSp','Parch','Ticket','Fare','Cabin','Embarked'],axis = 1)"
   ]
  },
  {
   "cell_type": "code",
   "execution_count": 28,
   "id": "87ecc373-04a1-4876-bbad-4d73fd4f8619",
   "metadata": {},
   "outputs": [
    {
     "data": {
      "text/plain": [
       "Pclass        0\n",
       "Sex           0\n",
       "Age          86\n",
       "FamilyNum     0\n",
       "dtype: int64"
      ]
     },
     "execution_count": 28,
     "metadata": {},
     "output_type": "execute_result"
    }
   ],
   "source": [
    "survival_test.isnull().sum()"
   ]
  },
  {
   "cell_type": "code",
   "execution_count": 29,
   "id": "d2d346e7-6f0b-49bf-9a07-7374f77a86ec",
   "metadata": {},
   "outputs": [],
   "source": [
    "survival_test = survival_test.fillna(survival_test['Age'].mean())"
   ]
  },
  {
   "cell_type": "code",
   "execution_count": 30,
   "id": "64bdbf42-6b74-49c4-8f51-e7e440bcbe24",
   "metadata": {},
   "outputs": [],
   "source": [
    "survival_test['Age'] = survival_test['Age'].astype('int')"
   ]
  },
  {
   "cell_type": "code",
   "execution_count": 31,
   "id": "311da707-0d65-47e7-a326-e0f55b5a0156",
   "metadata": {},
   "outputs": [
    {
     "data": {
      "text/html": [
       "<div>\n",
       "<style scoped>\n",
       "    .dataframe tbody tr th:only-of-type {\n",
       "        vertical-align: middle;\n",
       "    }\n",
       "\n",
       "    .dataframe tbody tr th {\n",
       "        vertical-align: top;\n",
       "    }\n",
       "\n",
       "    .dataframe thead th {\n",
       "        text-align: right;\n",
       "    }\n",
       "</style>\n",
       "<table border=\"1\" class=\"dataframe\">\n",
       "  <thead>\n",
       "    <tr style=\"text-align: right;\">\n",
       "      <th></th>\n",
       "      <th>Pclass</th>\n",
       "      <th>Sex</th>\n",
       "      <th>Age</th>\n",
       "      <th>FamilyNum</th>\n",
       "    </tr>\n",
       "  </thead>\n",
       "  <tbody>\n",
       "    <tr>\n",
       "      <th>0</th>\n",
       "      <td>3</td>\n",
       "      <td>male</td>\n",
       "      <td>34</td>\n",
       "      <td>0</td>\n",
       "    </tr>\n",
       "    <tr>\n",
       "      <th>1</th>\n",
       "      <td>3</td>\n",
       "      <td>female</td>\n",
       "      <td>47</td>\n",
       "      <td>1</td>\n",
       "    </tr>\n",
       "    <tr>\n",
       "      <th>2</th>\n",
       "      <td>2</td>\n",
       "      <td>male</td>\n",
       "      <td>62</td>\n",
       "      <td>0</td>\n",
       "    </tr>\n",
       "    <tr>\n",
       "      <th>3</th>\n",
       "      <td>3</td>\n",
       "      <td>male</td>\n",
       "      <td>27</td>\n",
       "      <td>0</td>\n",
       "    </tr>\n",
       "    <tr>\n",
       "      <th>4</th>\n",
       "      <td>3</td>\n",
       "      <td>female</td>\n",
       "      <td>22</td>\n",
       "      <td>2</td>\n",
       "    </tr>\n",
       "  </tbody>\n",
       "</table>\n",
       "</div>"
      ],
      "text/plain": [
       "   Pclass     Sex  Age  FamilyNum\n",
       "0       3    male   34          0\n",
       "1       3  female   47          1\n",
       "2       2    male   62          0\n",
       "3       3    male   27          0\n",
       "4       3  female   22          2"
      ]
     },
     "execution_count": 31,
     "metadata": {},
     "output_type": "execute_result"
    }
   ],
   "source": [
    "survival_test.head()"
   ]
  },
  {
   "cell_type": "markdown",
   "id": "b8b49cd5-411a-4bbb-9094-970b7e0efb20",
   "metadata": {
    "jp-MarkdownHeadingCollapsed": true
   },
   "source": [
    "#### 2.预测数据"
   ]
  },
  {
   "cell_type": "code",
   "execution_count": 32,
   "id": "428e3c9a-4894-451e-b88f-f06bf769c7a4",
   "metadata": {},
   "outputs": [],
   "source": [
    "#转换数据类型\n",
    "survival_test['Pclass'] = survival_test['Pclass'].astype(str)"
   ]
  },
  {
   "cell_type": "code",
   "execution_count": 33,
   "id": "f9eaf64d-fbf4-4b61-8c14-026499dda101",
   "metadata": {},
   "outputs": [],
   "source": [
    "#引入虚拟变量\n",
    "survival_test['Pclass'] = pd.Categorical(survival_test['Pclass'],categories = ['1','2','3'])\n",
    "survival_test['Sex'] = pd.Categorical(survival_test['Sex'],categories = ['female','male'])\n",
    "survivl_test_dummies = pd.get_dummies(data = survival_test, columns = ['Pclass','Sex'],dtype = int,drop_first = True)"
   ]
  },
  {
   "cell_type": "code",
   "execution_count": 34,
   "id": "cd0b9249-3a0b-48b6-9b7d-79f91dcfd395",
   "metadata": {},
   "outputs": [],
   "source": [
    "# 获取预测变量矩阵\n",
    "X_test = survival_test"
   ]
  },
  {
   "cell_type": "code",
   "execution_count": 35,
   "id": "a8107d95-cc8c-4f10-bd0a-7665ef2caf94",
   "metadata": {},
   "outputs": [],
   "source": [
    "# 建立截距并预测模型\n",
    "X_test_constant = sm.add_constant(X_test)\n",
    "predict_value = model_result.predict(X_with_constant)"
   ]
  },
  {
   "cell_type": "code",
   "execution_count": 36,
   "id": "876d354c-e2db-4dc1-86b8-01111feb0481",
   "metadata": {},
   "outputs": [
    {
     "data": {
      "text/plain": [
       "0      0.102895\n",
       "1      0.911956\n",
       "2      0.663681\n",
       "3      0.920989\n",
       "4      0.078734\n",
       "         ...   \n",
       "886    0.274209\n",
       "887    0.964541\n",
       "888    0.477264\n",
       "889    0.560350\n",
       "890    0.087737\n",
       "Length: 891, dtype: float64"
      ]
     },
     "execution_count": 36,
     "metadata": {},
     "output_type": "execute_result"
    }
   ],
   "source": [
    "predict_value"
   ]
  },
  {
   "cell_type": "code",
   "execution_count": 37,
   "id": "0abd6f79-5948-463d-8b7c-1f67daf81c3c",
   "metadata": {},
   "outputs": [
    {
     "data": {
      "text/html": [
       "<div>\n",
       "<style scoped>\n",
       "    .dataframe tbody tr th:only-of-type {\n",
       "        vertical-align: middle;\n",
       "    }\n",
       "\n",
       "    .dataframe tbody tr th {\n",
       "        vertical-align: top;\n",
       "    }\n",
       "\n",
       "    .dataframe thead th {\n",
       "        text-align: right;\n",
       "    }\n",
       "</style>\n",
       "<table border=\"1\" class=\"dataframe\">\n",
       "  <thead>\n",
       "    <tr style=\"text-align: right;\">\n",
       "      <th></th>\n",
       "      <th>Pclass</th>\n",
       "      <th>Sex</th>\n",
       "      <th>Age</th>\n",
       "      <th>FamilyNum</th>\n",
       "      <th>生还概率</th>\n",
       "    </tr>\n",
       "  </thead>\n",
       "  <tbody>\n",
       "    <tr>\n",
       "      <th>0</th>\n",
       "      <td>3</td>\n",
       "      <td>male</td>\n",
       "      <td>34</td>\n",
       "      <td>0</td>\n",
       "      <td>0.102895</td>\n",
       "    </tr>\n",
       "    <tr>\n",
       "      <th>1</th>\n",
       "      <td>3</td>\n",
       "      <td>female</td>\n",
       "      <td>47</td>\n",
       "      <td>1</td>\n",
       "      <td>0.911956</td>\n",
       "    </tr>\n",
       "    <tr>\n",
       "      <th>2</th>\n",
       "      <td>2</td>\n",
       "      <td>male</td>\n",
       "      <td>62</td>\n",
       "      <td>0</td>\n",
       "      <td>0.663681</td>\n",
       "    </tr>\n",
       "    <tr>\n",
       "      <th>3</th>\n",
       "      <td>3</td>\n",
       "      <td>male</td>\n",
       "      <td>27</td>\n",
       "      <td>0</td>\n",
       "      <td>0.920989</td>\n",
       "    </tr>\n",
       "    <tr>\n",
       "      <th>4</th>\n",
       "      <td>3</td>\n",
       "      <td>female</td>\n",
       "      <td>22</td>\n",
       "      <td>2</td>\n",
       "      <td>0.078734</td>\n",
       "    </tr>\n",
       "    <tr>\n",
       "      <th>...</th>\n",
       "      <td>...</td>\n",
       "      <td>...</td>\n",
       "      <td>...</td>\n",
       "      <td>...</td>\n",
       "      <td>...</td>\n",
       "    </tr>\n",
       "    <tr>\n",
       "      <th>413</th>\n",
       "      <td>3</td>\n",
       "      <td>male</td>\n",
       "      <td>30</td>\n",
       "      <td>0</td>\n",
       "      <td>0.258821</td>\n",
       "    </tr>\n",
       "    <tr>\n",
       "      <th>414</th>\n",
       "      <td>1</td>\n",
       "      <td>female</td>\n",
       "      <td>39</td>\n",
       "      <td>0</td>\n",
       "      <td>0.056574</td>\n",
       "    </tr>\n",
       "    <tr>\n",
       "      <th>415</th>\n",
       "      <td>3</td>\n",
       "      <td>male</td>\n",
       "      <td>38</td>\n",
       "      <td>0</td>\n",
       "      <td>0.636833</td>\n",
       "    </tr>\n",
       "    <tr>\n",
       "      <th>416</th>\n",
       "      <td>3</td>\n",
       "      <td>male</td>\n",
       "      <td>30</td>\n",
       "      <td>0</td>\n",
       "      <td>0.750463</td>\n",
       "    </tr>\n",
       "    <tr>\n",
       "      <th>417</th>\n",
       "      <td>3</td>\n",
       "      <td>male</td>\n",
       "      <td>30</td>\n",
       "      <td>2</td>\n",
       "      <td>0.849533</td>\n",
       "    </tr>\n",
       "  </tbody>\n",
       "</table>\n",
       "<p>418 rows × 5 columns</p>\n",
       "</div>"
      ],
      "text/plain": [
       "    Pclass     Sex  Age  FamilyNum      生还概率\n",
       "0        3    male   34          0  0.102895\n",
       "1        3  female   47          1  0.911956\n",
       "2        2    male   62          0  0.663681\n",
       "3        3    male   27          0  0.920989\n",
       "4        3  female   22          2  0.078734\n",
       "..     ...     ...  ...        ...       ...\n",
       "413      3    male   30          0  0.258821\n",
       "414      1  female   39          0  0.056574\n",
       "415      3    male   38          0  0.636833\n",
       "416      3    male   30          0  0.750463\n",
       "417      3    male   30          2  0.849533\n",
       "\n",
       "[418 rows x 5 columns]"
      ]
     },
     "execution_count": 37,
     "metadata": {},
     "output_type": "execute_result"
    }
   ],
   "source": [
    "#将预测结果整合进预测数据中\n",
    "survival_test['生还概率'] = predict_value\n",
    "survival_test"
   ]
  },
  {
   "cell_type": "code",
   "execution_count": null,
   "id": "1c551909-eddd-409f-a6a5-71db338c3c3c",
   "metadata": {},
   "outputs": [],
   "source": []
  }
 ],
 "metadata": {
  "kernelspec": {
   "display_name": "Python 3 (ipykernel)",
   "language": "python",
   "name": "python3"
  },
  "language_info": {
   "codemirror_mode": {
    "name": "ipython",
    "version": 3
   },
   "file_extension": ".py",
   "mimetype": "text/x-python",
   "name": "python",
   "nbconvert_exporter": "python",
   "pygments_lexer": "ipython3",
   "version": "3.12.3"
  }
 },
 "nbformat": 4,
 "nbformat_minor": 5
}
