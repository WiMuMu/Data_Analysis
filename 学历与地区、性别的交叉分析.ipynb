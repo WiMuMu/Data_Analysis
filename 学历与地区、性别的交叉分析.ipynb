{
 "cells": [
  {
   "cell_type": "markdown",
   "id": "2e756429-d302-4675-af9b-aa055dd3d067",
   "metadata": {},
   "source": [
    "# 学历与地区、性别的交叉可视化分析————基于国家统计局2022年《分地区按性别、6岁以上受教育人口》的调查数据"
   ]
  },
  {
   "cell_type": "markdown",
   "id": "e1bc42e5-741b-495c-8dbe-6c89fa0d2967",
   "metadata": {
    "jp-MarkdownHeadingCollapsed": true
   },
   "source": [
    "## 一、数据来源"
   ]
  },
  {
   "cell_type": "markdown",
   "id": "7124d2ae-8f4b-49b0-b8af-db901c1b56bb",
   "metadata": {},
   "source": [
    "    该数据集来源于国家统计局《分地区按性别、6岁以上受教育人口》"
   ]
  },
  {
   "cell_type": "markdown",
   "id": "828ddcd7-e5c8-4bc4-b5f3-b857391fa036",
   "metadata": {
    "jp-MarkdownHeadingCollapsed": true
   },
   "source": [
    "## 二、分析内容"
   ]
  },
  {
   "cell_type": "markdown",
   "id": "0e03539a-5fbd-4ffc-ba58-33aab65255e3",
   "metadata": {},
   "source": [
    "    本项目主要探究以下两个问题：\n",
    "（1）四川省不同学历层次人口分布的特征，以及这些分布与全国平均水平的差异。\n",
    "（2）研究不同学历层次中男女人口比例，探讨教育机会的性别差异。"
   ]
  },
  {
   "cell_type": "markdown",
   "id": "584e464d-b017-4226-9fd0-c9ff606adf53",
   "metadata": {
    "jp-MarkdownHeadingCollapsed": true
   },
   "source": [
    "## 三、数据读取与清理"
   ]
  },
  {
   "cell_type": "markdown",
   "id": "544f3871-3db1-4f11-9bba-97ffb453af15",
   "metadata": {},
   "source": [
    "### （一）数据读取"
   ]
  },
  {
   "cell_type": "code",
   "execution_count": 1,
   "id": "c94ab6a9-2922-4669-9299-06a7862d7545",
   "metadata": {},
   "outputs": [],
   "source": [
    "import pandas as pd"
   ]
  },
  {
   "cell_type": "code",
   "execution_count": 2,
   "id": "186315a8-47a2-4535-82c0-8dbbb46e7762",
   "metadata": {},
   "outputs": [],
   "source": [
    "education_data = pd.read_excel(r\"C:\\Users\\52699\\Desktop\\数据集\\教育数据相关\\（原始数据）分地区按性别、6岁以上受教育人口.xlsx\",header = [0,1])"
   ]
  },
  {
   "cell_type": "code",
   "execution_count": 3,
   "id": "6dc1f03a-3014-4867-93f3-82695a3a0d0b",
   "metadata": {},
   "outputs": [
    {
     "data": {
      "text/html": [
       "<div>\n",
       "<style scoped>\n",
       "    .dataframe tbody tr th:only-of-type {\n",
       "        vertical-align: middle;\n",
       "    }\n",
       "\n",
       "    .dataframe tbody tr th {\n",
       "        vertical-align: top;\n",
       "    }\n",
       "\n",
       "    .dataframe thead tr th {\n",
       "        text-align: left;\n",
       "    }\n",
       "</style>\n",
       "<table border=\"1\" class=\"dataframe\">\n",
       "  <thead>\n",
       "    <tr>\n",
       "      <th></th>\n",
       "      <th>Unnamed: 0_level_0</th>\n",
       "      <th colspan=\"4\" halign=\"left\">6岁及以上人口</th>\n",
       "      <th colspan=\"4\" halign=\"left\">未上过学</th>\n",
       "      <th>小学</th>\n",
       "      <th>...</th>\n",
       "      <th colspan=\"2\" halign=\"left\">大学专科</th>\n",
       "      <th colspan=\"4\" halign=\"left\">大学本科</th>\n",
       "      <th colspan=\"4\" halign=\"left\">研究生</th>\n",
       "    </tr>\n",
       "    <tr>\n",
       "      <th></th>\n",
       "      <th>地区</th>\n",
       "      <th>合计</th>\n",
       "      <th>合计.1</th>\n",
       "      <th>男</th>\n",
       "      <th>女</th>\n",
       "      <th>小计</th>\n",
       "      <th>小计.1</th>\n",
       "      <th>男</th>\n",
       "      <th>女</th>\n",
       "      <th>小计</th>\n",
       "      <th>...</th>\n",
       "      <th>男</th>\n",
       "      <th>女</th>\n",
       "      <th>小计</th>\n",
       "      <th>小计.1</th>\n",
       "      <th>男</th>\n",
       "      <th>女</th>\n",
       "      <th>小计</th>\n",
       "      <th>小计.1</th>\n",
       "      <th>男</th>\n",
       "      <th>女</th>\n",
       "    </tr>\n",
       "  </thead>\n",
       "  <tbody>\n",
       "    <tr>\n",
       "      <th>0</th>\n",
       "      <td>全国</td>\n",
       "      <td>1363035</td>\n",
       "      <td>NaN</td>\n",
       "      <td>695142</td>\n",
       "      <td>667894</td>\n",
       "      <td>51393</td>\n",
       "      <td>NaN</td>\n",
       "      <td>14948</td>\n",
       "      <td>36444</td>\n",
       "      <td>355354</td>\n",
       "      <td>...</td>\n",
       "      <td>70295</td>\n",
       "      <td>63655</td>\n",
       "      <td>118553</td>\n",
       "      <td>NaN</td>\n",
       "      <td>60673</td>\n",
       "      <td>57881</td>\n",
       "      <td>12912</td>\n",
       "      <td>NaN</td>\n",
       "      <td>6724</td>\n",
       "      <td>6187</td>\n",
       "    </tr>\n",
       "    <tr>\n",
       "      <th>1</th>\n",
       "      <td>北京</td>\n",
       "      <td>21297</td>\n",
       "      <td>NaN</td>\n",
       "      <td>10868</td>\n",
       "      <td>10429</td>\n",
       "      <td>282</td>\n",
       "      <td>NaN</td>\n",
       "      <td>89</td>\n",
       "      <td>194</td>\n",
       "      <td>2309</td>\n",
       "      <td>...</td>\n",
       "      <td>1711</td>\n",
       "      <td>1592</td>\n",
       "      <td>5498</td>\n",
       "      <td>NaN</td>\n",
       "      <td>2792</td>\n",
       "      <td>2706</td>\n",
       "      <td>1918</td>\n",
       "      <td>NaN</td>\n",
       "      <td>1048</td>\n",
       "      <td>870</td>\n",
       "    </tr>\n",
       "    <tr>\n",
       "      <th>2</th>\n",
       "      <td>天津</td>\n",
       "      <td>13355</td>\n",
       "      <td>NaN</td>\n",
       "      <td>6841</td>\n",
       "      <td>6514</td>\n",
       "      <td>239</td>\n",
       "      <td>NaN</td>\n",
       "      <td>72</td>\n",
       "      <td>167</td>\n",
       "      <td>2143</td>\n",
       "      <td>...</td>\n",
       "      <td>958</td>\n",
       "      <td>828</td>\n",
       "      <td>2316</td>\n",
       "      <td>NaN</td>\n",
       "      <td>1172</td>\n",
       "      <td>1144</td>\n",
       "      <td>282</td>\n",
       "      <td>NaN</td>\n",
       "      <td>151</td>\n",
       "      <td>131</td>\n",
       "    </tr>\n",
       "    <tr>\n",
       "      <th>3</th>\n",
       "      <td>河北</td>\n",
       "      <td>71816</td>\n",
       "      <td>NaN</td>\n",
       "      <td>35581</td>\n",
       "      <td>36235</td>\n",
       "      <td>2021</td>\n",
       "      <td>NaN</td>\n",
       "      <td>683</td>\n",
       "      <td>1338</td>\n",
       "      <td>17913</td>\n",
       "      <td>...</td>\n",
       "      <td>2841</td>\n",
       "      <td>3046</td>\n",
       "      <td>5192</td>\n",
       "      <td>NaN</td>\n",
       "      <td>2419</td>\n",
       "      <td>2773</td>\n",
       "      <td>467</td>\n",
       "      <td>NaN</td>\n",
       "      <td>233</td>\n",
       "      <td>233</td>\n",
       "    </tr>\n",
       "    <tr>\n",
       "      <th>4</th>\n",
       "      <td>山西</td>\n",
       "      <td>33750</td>\n",
       "      <td>NaN</td>\n",
       "      <td>17224</td>\n",
       "      <td>16526</td>\n",
       "      <td>669</td>\n",
       "      <td>NaN</td>\n",
       "      <td>252</td>\n",
       "      <td>417</td>\n",
       "      <td>6689</td>\n",
       "      <td>...</td>\n",
       "      <td>1832</td>\n",
       "      <td>1758</td>\n",
       "      <td>3126</td>\n",
       "      <td>NaN</td>\n",
       "      <td>1621</td>\n",
       "      <td>1505</td>\n",
       "      <td>212</td>\n",
       "      <td>NaN</td>\n",
       "      <td>88</td>\n",
       "      <td>125</td>\n",
       "    </tr>\n",
       "  </tbody>\n",
       "</table>\n",
       "<p>5 rows × 30 columns</p>\n",
       "</div>"
      ],
      "text/plain": [
       "  Unnamed: 0_level_0  6岁及以上人口                        未上过学                     \\\n",
       "                  地区       合计 合计.1       男       女     小计 小计.1      男      女   \n",
       "0                 全国  1363035  NaN  695142  667894  51393  NaN  14948  36444   \n",
       "1                 北京    21297  NaN   10868   10429    282  NaN     89    194   \n",
       "2                 天津    13355  NaN    6841    6514    239  NaN     72    167   \n",
       "3                 河北    71816  NaN   35581   36235   2021  NaN    683   1338   \n",
       "4                 山西    33750  NaN   17224   16526    669  NaN    252    417   \n",
       "\n",
       "       小学  ...   大学专科           大学本科                       研究生             \\\n",
       "       小计  ...      男      女      小计 小计.1      男      女     小计 小计.1     男   \n",
       "0  355354  ...  70295  63655  118553  NaN  60673  57881  12912  NaN  6724   \n",
       "1    2309  ...   1711   1592    5498  NaN   2792   2706   1918  NaN  1048   \n",
       "2    2143  ...    958    828    2316  NaN   1172   1144    282  NaN   151   \n",
       "3   17913  ...   2841   3046    5192  NaN   2419   2773    467  NaN   233   \n",
       "4    6689  ...   1832   1758    3126  NaN   1621   1505    212  NaN    88   \n",
       "\n",
       "         \n",
       "      女  \n",
       "0  6187  \n",
       "1   870  \n",
       "2   131  \n",
       "3   233  \n",
       "4   125  \n",
       "\n",
       "[5 rows x 30 columns]"
      ]
     },
     "execution_count": 3,
     "metadata": {},
     "output_type": "execute_result"
    }
   ],
   "source": [
    "education_data.head()"
   ]
  },
  {
   "cell_type": "code",
   "execution_count": 4,
   "id": "7f278b1d-852c-4ad0-bd73-2facb8b20022",
   "metadata": {},
   "outputs": [
    {
     "name": "stdout",
     "output_type": "stream",
     "text": [
      "<class 'pandas.core.frame.DataFrame'>\n",
      "RangeIndex: 32 entries, 0 to 31\n",
      "Data columns (total 30 columns):\n",
      " #   Column                    Non-Null Count  Dtype  \n",
      "---  ------                    --------------  -----  \n",
      " 0   (Unnamed: 0_level_0, 地区)  32 non-null     object \n",
      " 1   (6岁及以上人口, 合计)             32 non-null     int64  \n",
      " 2   (6岁及以上人口, 合计.1)           0 non-null      float64\n",
      " 3   (6岁及以上人口, 男)              32 non-null     int64  \n",
      " 4   (6岁及以上人口, 女)              32 non-null     int64  \n",
      " 5   (未上过学, 小计)                32 non-null     int64  \n",
      " 6   (未上过学, 小计.1)              0 non-null      float64\n",
      " 7   (未上过学, 男)                 32 non-null     int64  \n",
      " 8   (未上过学, 女)                 32 non-null     int64  \n",
      " 9   (小学, 小计)                  32 non-null     int64  \n",
      " 10  (小学, 男)                   32 non-null     int64  \n",
      " 11  (小学, 女)                   32 non-null     int64  \n",
      " 12  (初中, 小计)                  32 non-null     int64  \n",
      " 13  (初中, 男)                   32 non-null     int64  \n",
      " 14  (初中, 女)                   32 non-null     int64  \n",
      " 15  (高中, 小计)                  32 non-null     int64  \n",
      " 16  (高中, 男)                   32 non-null     int64  \n",
      " 17  (高中, 女)                   32 non-null     int64  \n",
      " 18  (大学专科, 小计)                32 non-null     int64  \n",
      " 19  (大学专科, 小计.1)              0 non-null      float64\n",
      " 20  (大学专科, 男)                 32 non-null     int64  \n",
      " 21  (大学专科, 女)                 32 non-null     int64  \n",
      " 22  (大学本科, 小计)                32 non-null     int64  \n",
      " 23  (大学本科, 小计.1)              0 non-null      float64\n",
      " 24  (大学本科, 男)                 32 non-null     int64  \n",
      " 25  (大学本科, 女)                 32 non-null     int64  \n",
      " 26  (研究生, 小计)                 32 non-null     int64  \n",
      " 27  (研究生, 小计.1)               0 non-null      float64\n",
      " 28  (研究生, 男)                  32 non-null     int64  \n",
      " 29  (研究生, 女)                  32 non-null     int64  \n",
      "dtypes: float64(5), int64(24), object(1)\n",
      "memory usage: 7.6+ KB\n"
     ]
    }
   ],
   "source": [
    "education_data.info()"
   ]
  },
  {
   "cell_type": "markdown",
   "id": "960f01a2-39f9-4169-b439-eb4b3b0a4234",
   "metadata": {},
   "source": [
    "### (二）数据清理"
   ]
  },
  {
   "cell_type": "code",
   "execution_count": 5,
   "id": "ba01f739-fb3f-45e7-8cc1-9ba01b28cb44",
   "metadata": {},
   "outputs": [],
   "source": [
    "#删除Nan值无效数据\n",
    "education_data = education_data.dropna(axis=1, how='any') "
   ]
  },
  {
   "cell_type": "code",
   "execution_count": 6,
   "id": "abf31067-b9c3-4599-a072-71bcbfc7bc88",
   "metadata": {},
   "outputs": [],
   "source": [
    "# 展平多级列\n",
    "education_data.columns = ['_'.join(col).strip() for col in education_data.columns.values]"
   ]
  },
  {
   "cell_type": "code",
   "execution_count": 7,
   "id": "260568c4-6d07-4a14-bb68-2125f450f5f9",
   "metadata": {},
   "outputs": [
    {
     "data": {
      "text/html": [
       "<div>\n",
       "<style scoped>\n",
       "    .dataframe tbody tr th:only-of-type {\n",
       "        vertical-align: middle;\n",
       "    }\n",
       "\n",
       "    .dataframe tbody tr th {\n",
       "        vertical-align: top;\n",
       "    }\n",
       "\n",
       "    .dataframe thead th {\n",
       "        text-align: right;\n",
       "    }\n",
       "</style>\n",
       "<table border=\"1\" class=\"dataframe\">\n",
       "  <thead>\n",
       "    <tr style=\"text-align: right;\">\n",
       "      <th></th>\n",
       "      <th>Unnamed: 0_level_0_地区</th>\n",
       "      <th>6岁及以上人口_合计</th>\n",
       "      <th>6岁及以上人口_男</th>\n",
       "      <th>6岁及以上人口_女</th>\n",
       "      <th>未上过学_小计</th>\n",
       "      <th>未上过学_男</th>\n",
       "      <th>未上过学_女</th>\n",
       "      <th>小学_小计</th>\n",
       "      <th>小学_男</th>\n",
       "      <th>小学_女</th>\n",
       "      <th>...</th>\n",
       "      <th>高中_女</th>\n",
       "      <th>大学专科_小计</th>\n",
       "      <th>大学专科_男</th>\n",
       "      <th>大学专科_女</th>\n",
       "      <th>大学本科_小计</th>\n",
       "      <th>大学本科_男</th>\n",
       "      <th>大学本科_女</th>\n",
       "      <th>研究生_小计</th>\n",
       "      <th>研究生_男</th>\n",
       "      <th>研究生_女</th>\n",
       "    </tr>\n",
       "  </thead>\n",
       "  <tbody>\n",
       "    <tr>\n",
       "      <th>0</th>\n",
       "      <td>全国</td>\n",
       "      <td>1363035</td>\n",
       "      <td>695142</td>\n",
       "      <td>667894</td>\n",
       "      <td>51393</td>\n",
       "      <td>14948</td>\n",
       "      <td>36444</td>\n",
       "      <td>355354</td>\n",
       "      <td>167013</td>\n",
       "      <td>188341</td>\n",
       "      <td>...</td>\n",
       "      <td>99455</td>\n",
       "      <td>133949</td>\n",
       "      <td>70295</td>\n",
       "      <td>63655</td>\n",
       "      <td>118553</td>\n",
       "      <td>60673</td>\n",
       "      <td>57881</td>\n",
       "      <td>12912</td>\n",
       "      <td>6724</td>\n",
       "      <td>6187</td>\n",
       "    </tr>\n",
       "    <tr>\n",
       "      <th>1</th>\n",
       "      <td>北京</td>\n",
       "      <td>21297</td>\n",
       "      <td>10868</td>\n",
       "      <td>10429</td>\n",
       "      <td>282</td>\n",
       "      <td>89</td>\n",
       "      <td>194</td>\n",
       "      <td>2309</td>\n",
       "      <td>1085</td>\n",
       "      <td>1224</td>\n",
       "      <td>...</td>\n",
       "      <td>1765</td>\n",
       "      <td>3303</td>\n",
       "      <td>1711</td>\n",
       "      <td>1592</td>\n",
       "      <td>5498</td>\n",
       "      <td>2792</td>\n",
       "      <td>2706</td>\n",
       "      <td>1918</td>\n",
       "      <td>1048</td>\n",
       "      <td>870</td>\n",
       "    </tr>\n",
       "    <tr>\n",
       "      <th>2</th>\n",
       "      <td>天津</td>\n",
       "      <td>13355</td>\n",
       "      <td>6841</td>\n",
       "      <td>6514</td>\n",
       "      <td>239</td>\n",
       "      <td>72</td>\n",
       "      <td>167</td>\n",
       "      <td>2143</td>\n",
       "      <td>1013</td>\n",
       "      <td>1131</td>\n",
       "      <td>...</td>\n",
       "      <td>1143</td>\n",
       "      <td>1785</td>\n",
       "      <td>958</td>\n",
       "      <td>828</td>\n",
       "      <td>2316</td>\n",
       "      <td>1172</td>\n",
       "      <td>1144</td>\n",
       "      <td>282</td>\n",
       "      <td>151</td>\n",
       "      <td>131</td>\n",
       "    </tr>\n",
       "    <tr>\n",
       "      <th>3</th>\n",
       "      <td>河北</td>\n",
       "      <td>71816</td>\n",
       "      <td>35581</td>\n",
       "      <td>36235</td>\n",
       "      <td>2021</td>\n",
       "      <td>683</td>\n",
       "      <td>1338</td>\n",
       "      <td>17913</td>\n",
       "      <td>8307</td>\n",
       "      <td>9606</td>\n",
       "      <td>...</td>\n",
       "      <td>5688</td>\n",
       "      <td>5888</td>\n",
       "      <td>2841</td>\n",
       "      <td>3046</td>\n",
       "      <td>5192</td>\n",
       "      <td>2419</td>\n",
       "      <td>2773</td>\n",
       "      <td>467</td>\n",
       "      <td>233</td>\n",
       "      <td>233</td>\n",
       "    </tr>\n",
       "    <tr>\n",
       "      <th>4</th>\n",
       "      <td>山西</td>\n",
       "      <td>33750</td>\n",
       "      <td>17224</td>\n",
       "      <td>16526</td>\n",
       "      <td>669</td>\n",
       "      <td>252</td>\n",
       "      <td>417</td>\n",
       "      <td>6689</td>\n",
       "      <td>3027</td>\n",
       "      <td>3662</td>\n",
       "      <td>...</td>\n",
       "      <td>2750</td>\n",
       "      <td>3590</td>\n",
       "      <td>1832</td>\n",
       "      <td>1758</td>\n",
       "      <td>3126</td>\n",
       "      <td>1621</td>\n",
       "      <td>1505</td>\n",
       "      <td>212</td>\n",
       "      <td>88</td>\n",
       "      <td>125</td>\n",
       "    </tr>\n",
       "  </tbody>\n",
       "</table>\n",
       "<p>5 rows × 25 columns</p>\n",
       "</div>"
      ],
      "text/plain": [
       "  Unnamed: 0_level_0_地区  6岁及以上人口_合计  6岁及以上人口_男  6岁及以上人口_女  未上过学_小计  未上过学_男  \\\n",
       "0                    全国     1363035     695142     667894    51393   14948   \n",
       "1                    北京       21297      10868      10429      282      89   \n",
       "2                    天津       13355       6841       6514      239      72   \n",
       "3                    河北       71816      35581      36235     2021     683   \n",
       "4                    山西       33750      17224      16526      669     252   \n",
       "\n",
       "   未上过学_女   小学_小计    小学_男    小学_女  ...   高中_女  大学专科_小计  大学专科_男  大学专科_女  \\\n",
       "0   36444  355354  167013  188341  ...  99455   133949   70295   63655   \n",
       "1     194    2309    1085    1224  ...   1765     3303    1711    1592   \n",
       "2     167    2143    1013    1131  ...   1143     1785     958     828   \n",
       "3    1338   17913    8307    9606  ...   5688     5888    2841    3046   \n",
       "4     417    6689    3027    3662  ...   2750     3590    1832    1758   \n",
       "\n",
       "   大学本科_小计  大学本科_男  大学本科_女  研究生_小计  研究生_男  研究生_女  \n",
       "0   118553   60673   57881   12912   6724   6187  \n",
       "1     5498    2792    2706    1918   1048    870  \n",
       "2     2316    1172    1144     282    151    131  \n",
       "3     5192    2419    2773     467    233    233  \n",
       "4     3126    1621    1505     212     88    125  \n",
       "\n",
       "[5 rows x 25 columns]"
      ]
     },
     "execution_count": 7,
     "metadata": {},
     "output_type": "execute_result"
    }
   ],
   "source": [
    "education_data.head()"
   ]
  },
  {
   "cell_type": "code",
   "execution_count": 8,
   "id": "51d70baa-8be6-43b9-85c7-e87557e4ddef",
   "metadata": {},
   "outputs": [],
   "source": [
    "# 将宽格式数据转换为长格式\n",
    "education_data = pd.melt(education_data, id_vars=['Unnamed: 0_level_0_地区'], var_name='学历_性别', value_name='人数')"
   ]
  },
  {
   "cell_type": "code",
   "execution_count": 9,
   "id": "75ffb34a-8c14-4ce2-b28a-6a34a39b478b",
   "metadata": {},
   "outputs": [],
   "source": [
    "# 将 '学历_性别' 列拆分为 '学历' 和 '性别' 两列\n",
    "education_data[['学历', '性别']] = education_data['学历_性别'].str.split('_', expand=True)"
   ]
  },
  {
   "cell_type": "code",
   "execution_count": 10,
   "id": "15ddf9b6-53ec-4374-b771-3785adadaf38",
   "metadata": {},
   "outputs": [],
   "source": [
    "# 删除不必要的 '学历_性别' 列\n",
    "education_data = education_data.drop(columns=['学历_性别'])"
   ]
  },
  {
   "cell_type": "code",
   "execution_count": 11,
   "id": "722aed9f-fa7b-4d97-b020-86809474c1f3",
   "metadata": {},
   "outputs": [],
   "source": [
    "# 重命名列\n",
    "education_data = education_data.rename(columns={'Unnamed: 0_level_0_地区': '地区'})"
   ]
  },
  {
   "cell_type": "code",
   "execution_count": 12,
   "id": "41711aa8-6761-4d4f-831b-76a765dd4d79",
   "metadata": {},
   "outputs": [
    {
     "data": {
      "text/html": [
       "<div>\n",
       "<style scoped>\n",
       "    .dataframe tbody tr th:only-of-type {\n",
       "        vertical-align: middle;\n",
       "    }\n",
       "\n",
       "    .dataframe tbody tr th {\n",
       "        vertical-align: top;\n",
       "    }\n",
       "\n",
       "    .dataframe thead th {\n",
       "        text-align: right;\n",
       "    }\n",
       "</style>\n",
       "<table border=\"1\" class=\"dataframe\">\n",
       "  <thead>\n",
       "    <tr style=\"text-align: right;\">\n",
       "      <th></th>\n",
       "      <th>地区</th>\n",
       "      <th>人数</th>\n",
       "      <th>学历</th>\n",
       "      <th>性别</th>\n",
       "    </tr>\n",
       "  </thead>\n",
       "  <tbody>\n",
       "    <tr>\n",
       "      <th>0</th>\n",
       "      <td>全国</td>\n",
       "      <td>1363035</td>\n",
       "      <td>6岁及以上人口</td>\n",
       "      <td>合计</td>\n",
       "    </tr>\n",
       "    <tr>\n",
       "      <th>1</th>\n",
       "      <td>北京</td>\n",
       "      <td>21297</td>\n",
       "      <td>6岁及以上人口</td>\n",
       "      <td>合计</td>\n",
       "    </tr>\n",
       "    <tr>\n",
       "      <th>2</th>\n",
       "      <td>天津</td>\n",
       "      <td>13355</td>\n",
       "      <td>6岁及以上人口</td>\n",
       "      <td>合计</td>\n",
       "    </tr>\n",
       "    <tr>\n",
       "      <th>3</th>\n",
       "      <td>河北</td>\n",
       "      <td>71816</td>\n",
       "      <td>6岁及以上人口</td>\n",
       "      <td>合计</td>\n",
       "    </tr>\n",
       "    <tr>\n",
       "      <th>4</th>\n",
       "      <td>山西</td>\n",
       "      <td>33750</td>\n",
       "      <td>6岁及以上人口</td>\n",
       "      <td>合计</td>\n",
       "    </tr>\n",
       "  </tbody>\n",
       "</table>\n",
       "</div>"
      ],
      "text/plain": [
       "   地区       人数       学历  性别\n",
       "0  全国  1363035  6岁及以上人口  合计\n",
       "1  北京    21297  6岁及以上人口  合计\n",
       "2  天津    13355  6岁及以上人口  合计\n",
       "3  河北    71816  6岁及以上人口  合计\n",
       "4  山西    33750  6岁及以上人口  合计"
      ]
     },
     "execution_count": 12,
     "metadata": {},
     "output_type": "execute_result"
    }
   ],
   "source": [
    "education_data.head()"
   ]
  },
  {
   "cell_type": "code",
   "execution_count": 13,
   "id": "a07e4889-491e-40d0-a99f-1e18f4521e28",
   "metadata": {},
   "outputs": [],
   "source": [
    "# 删除若干与分析内容无关且影响表格结构的数据\n",
    "education_data = education_data.drop(education_data[education_data['性别'] =='小计'].index)\n",
    "education_data = education_data.drop(education_data[education_data['性别'] =='合计'].index)\n",
    "education_data = education_data.drop(education_data[education_data['地区'] =='全国'].index)\n",
    "education_data = education_data.drop(education_data[education_data['学历'] =='6岁及以上人口'].index)"
   ]
  },
  {
   "cell_type": "code",
   "execution_count": 14,
   "id": "a626972d-c01b-4786-8b39-0ceccb56ccc8",
   "metadata": {},
   "outputs": [],
   "source": [
    "# 合并若干值以精简表格结构\n",
    "education_data['学历'] = education_data['学历'].replace({'初中': '中学', '高中': '中学','大学专科': '专科', '大学本科': '本科'})"
   ]
  },
  {
   "cell_type": "code",
   "execution_count": 15,
   "id": "8f942444-f8d4-407f-86ae-25db9ce9442e",
   "metadata": {},
   "outputs": [
    {
     "data": {
      "text/html": [
       "<div>\n",
       "<style scoped>\n",
       "    .dataframe tbody tr th:only-of-type {\n",
       "        vertical-align: middle;\n",
       "    }\n",
       "\n",
       "    .dataframe tbody tr th {\n",
       "        vertical-align: top;\n",
       "    }\n",
       "\n",
       "    .dataframe thead th {\n",
       "        text-align: right;\n",
       "    }\n",
       "</style>\n",
       "<table border=\"1\" class=\"dataframe\">\n",
       "  <thead>\n",
       "    <tr style=\"text-align: right;\">\n",
       "      <th></th>\n",
       "      <th>地区</th>\n",
       "      <th>人数</th>\n",
       "      <th>学历</th>\n",
       "      <th>性别</th>\n",
       "    </tr>\n",
       "  </thead>\n",
       "  <tbody>\n",
       "    <tr>\n",
       "      <th>129</th>\n",
       "      <td>北京</td>\n",
       "      <td>89</td>\n",
       "      <td>未上过学</td>\n",
       "      <td>男</td>\n",
       "    </tr>\n",
       "    <tr>\n",
       "      <th>130</th>\n",
       "      <td>天津</td>\n",
       "      <td>72</td>\n",
       "      <td>未上过学</td>\n",
       "      <td>男</td>\n",
       "    </tr>\n",
       "    <tr>\n",
       "      <th>131</th>\n",
       "      <td>河北</td>\n",
       "      <td>683</td>\n",
       "      <td>未上过学</td>\n",
       "      <td>男</td>\n",
       "    </tr>\n",
       "    <tr>\n",
       "      <th>132</th>\n",
       "      <td>山西</td>\n",
       "      <td>252</td>\n",
       "      <td>未上过学</td>\n",
       "      <td>男</td>\n",
       "    </tr>\n",
       "    <tr>\n",
       "      <th>133</th>\n",
       "      <td>内蒙古</td>\n",
       "      <td>273</td>\n",
       "      <td>未上过学</td>\n",
       "      <td>男</td>\n",
       "    </tr>\n",
       "    <tr>\n",
       "      <th>...</th>\n",
       "      <td>...</td>\n",
       "      <td>...</td>\n",
       "      <td>...</td>\n",
       "      <td>...</td>\n",
       "    </tr>\n",
       "    <tr>\n",
       "      <th>763</th>\n",
       "      <td>陕西</td>\n",
       "      <td>205</td>\n",
       "      <td>研究生</td>\n",
       "      <td>女</td>\n",
       "    </tr>\n",
       "    <tr>\n",
       "      <th>764</th>\n",
       "      <td>甘肃</td>\n",
       "      <td>130</td>\n",
       "      <td>研究生</td>\n",
       "      <td>女</td>\n",
       "    </tr>\n",
       "    <tr>\n",
       "      <th>765</th>\n",
       "      <td>青海</td>\n",
       "      <td>31</td>\n",
       "      <td>研究生</td>\n",
       "      <td>女</td>\n",
       "    </tr>\n",
       "    <tr>\n",
       "      <th>766</th>\n",
       "      <td>宁夏</td>\n",
       "      <td>17</td>\n",
       "      <td>研究生</td>\n",
       "      <td>女</td>\n",
       "    </tr>\n",
       "    <tr>\n",
       "      <th>767</th>\n",
       "      <td>新疆</td>\n",
       "      <td>38</td>\n",
       "      <td>研究生</td>\n",
       "      <td>女</td>\n",
       "    </tr>\n",
       "  </tbody>\n",
       "</table>\n",
       "<p>434 rows × 4 columns</p>\n",
       "</div>"
      ],
      "text/plain": [
       "      地区   人数    学历 性别\n",
       "129   北京   89  未上过学  男\n",
       "130   天津   72  未上过学  男\n",
       "131   河北  683  未上过学  男\n",
       "132   山西  252  未上过学  男\n",
       "133  内蒙古  273  未上过学  男\n",
       "..   ...  ...   ... ..\n",
       "763   陕西  205   研究生  女\n",
       "764   甘肃  130   研究生  女\n",
       "765   青海   31   研究生  女\n",
       "766   宁夏   17   研究生  女\n",
       "767   新疆   38   研究生  女\n",
       "\n",
       "[434 rows x 4 columns]"
      ]
     },
     "execution_count": 15,
     "metadata": {},
     "output_type": "execute_result"
    }
   ],
   "source": [
    "education_data"
   ]
  },
  {
   "cell_type": "code",
   "execution_count": 16,
   "id": "57b414c6-e63e-449d-a510-acc51787e6e2",
   "metadata": {},
   "outputs": [
    {
     "name": "stdout",
     "output_type": "stream",
     "text": [
      "<class 'pandas.core.frame.DataFrame'>\n",
      "Index: 434 entries, 129 to 767\n",
      "Data columns (total 4 columns):\n",
      " #   Column  Non-Null Count  Dtype \n",
      "---  ------  --------------  ----- \n",
      " 0   地区      434 non-null    object\n",
      " 1   人数      434 non-null    int64 \n",
      " 2   学历      434 non-null    object\n",
      " 3   性别      434 non-null    object\n",
      "dtypes: int64(1), object(3)\n",
      "memory usage: 17.0+ KB\n"
     ]
    }
   ],
   "source": [
    "education_data.info()"
   ]
  },
  {
   "cell_type": "markdown",
   "id": "33ff2779-737f-4788-b733-617ac2da4b41",
   "metadata": {},
   "source": [
    "## 四、数据可视化分析"
   ]
  },
  {
   "cell_type": "code",
   "execution_count": 17,
   "id": "e94c0f3a-94d2-48c1-a84c-7f3e506813d6",
   "metadata": {},
   "outputs": [],
   "source": [
    "import matplotlib.pyplot as plt\n",
    "import seaborn as sns\n",
    "plt.rcParams['font.family'] = 'SimSun'"
   ]
  },
  {
   "cell_type": "markdown",
   "id": "35a9471f-bac3-42b2-87ec-831365ee42c8",
   "metadata": {},
   "source": [
    "### （一）四川省不同学历层次人口分布的特征"
   ]
  },
  {
   "cell_type": "markdown",
   "id": "2cf182e9-3fa5-42f7-8705-1e13a6b6e2c4",
   "metadata": {},
   "source": [
    "#### 1.四川省内不同学历层次人口分布"
   ]
  },
  {
   "cell_type": "code",
   "execution_count": 18,
   "id": "9d4eb233-3a07-499d-bdb0-41568944c8c3",
   "metadata": {},
   "outputs": [],
   "source": [
    "grouped = education_data.groupby(['地区','学历'])['人数'].sum().reset_index()"
   ]
  },
  {
   "cell_type": "code",
   "execution_count": 19,
   "id": "3ee89c16-b0ea-4d2d-8cd7-546201ce9cfa",
   "metadata": {},
   "outputs": [
    {
     "data": {
      "text/html": [
       "<div>\n",
       "<style scoped>\n",
       "    .dataframe tbody tr th:only-of-type {\n",
       "        vertical-align: middle;\n",
       "    }\n",
       "\n",
       "    .dataframe tbody tr th {\n",
       "        vertical-align: top;\n",
       "    }\n",
       "\n",
       "    .dataframe thead th {\n",
       "        text-align: right;\n",
       "    }\n",
       "</style>\n",
       "<table border=\"1\" class=\"dataframe\">\n",
       "  <thead>\n",
       "    <tr style=\"text-align: right;\">\n",
       "      <th></th>\n",
       "      <th>地区</th>\n",
       "      <th>学历</th>\n",
       "      <th>人数</th>\n",
       "    </tr>\n",
       "  </thead>\n",
       "  <tbody>\n",
       "    <tr>\n",
       "      <th>0</th>\n",
       "      <td>上海</td>\n",
       "      <td>专科</td>\n",
       "      <td>3246</td>\n",
       "    </tr>\n",
       "    <tr>\n",
       "      <th>1</th>\n",
       "      <td>上海</td>\n",
       "      <td>中学</td>\n",
       "      <td>11325</td>\n",
       "    </tr>\n",
       "    <tr>\n",
       "      <th>2</th>\n",
       "      <td>上海</td>\n",
       "      <td>小学</td>\n",
       "      <td>3072</td>\n",
       "    </tr>\n",
       "    <tr>\n",
       "      <th>3</th>\n",
       "      <td>上海</td>\n",
       "      <td>未上过学</td>\n",
       "      <td>501</td>\n",
       "    </tr>\n",
       "    <tr>\n",
       "      <th>4</th>\n",
       "      <td>上海</td>\n",
       "      <td>本科</td>\n",
       "      <td>4997</td>\n",
       "    </tr>\n",
       "    <tr>\n",
       "      <th>...</th>\n",
       "      <td>...</td>\n",
       "      <td>...</td>\n",
       "      <td>...</td>\n",
       "    </tr>\n",
       "    <tr>\n",
       "      <th>181</th>\n",
       "      <td>黑龙江</td>\n",
       "      <td>中学</td>\n",
       "      <td>17636</td>\n",
       "    </tr>\n",
       "    <tr>\n",
       "      <th>182</th>\n",
       "      <td>黑龙江</td>\n",
       "      <td>小学</td>\n",
       "      <td>6973</td>\n",
       "    </tr>\n",
       "    <tr>\n",
       "      <th>183</th>\n",
       "      <td>黑龙江</td>\n",
       "      <td>未上过学</td>\n",
       "      <td>924</td>\n",
       "    </tr>\n",
       "    <tr>\n",
       "      <th>184</th>\n",
       "      <td>黑龙江</td>\n",
       "      <td>本科</td>\n",
       "      <td>2559</td>\n",
       "    </tr>\n",
       "    <tr>\n",
       "      <th>185</th>\n",
       "      <td>黑龙江</td>\n",
       "      <td>研究生</td>\n",
       "      <td>168</td>\n",
       "    </tr>\n",
       "  </tbody>\n",
       "</table>\n",
       "<p>186 rows × 3 columns</p>\n",
       "</div>"
      ],
      "text/plain": [
       "      地区    学历     人数\n",
       "0     上海    专科   3246\n",
       "1     上海    中学  11325\n",
       "2     上海    小学   3072\n",
       "3     上海  未上过学    501\n",
       "4     上海    本科   4997\n",
       "..   ...   ...    ...\n",
       "181  黑龙江    中学  17636\n",
       "182  黑龙江    小学   6973\n",
       "183  黑龙江  未上过学    924\n",
       "184  黑龙江    本科   2559\n",
       "185  黑龙江   研究生    168\n",
       "\n",
       "[186 rows x 3 columns]"
      ]
     },
     "execution_count": 19,
     "metadata": {},
     "output_type": "execute_result"
    }
   ],
   "source": [
    "grouped"
   ]
  },
  {
   "cell_type": "code",
   "execution_count": 20,
   "id": "85eb8b1f-5819-4df9-af15-eff05fa1b79b",
   "metadata": {},
   "outputs": [
    {
     "data": {
      "text/plain": [
       "Text(0.5, 1.0, '四川省不同学历人口分布情况')"
      ]
     },
     "execution_count": 20,
     "metadata": {},
     "output_type": "execute_result"
    },
    {
     "data": {
      "image/png": "[encoded data removed]",
      "text/plain": [
       "<Figure size 800x400 with 1 Axes>"
      ]
     },
     "metadata": {},
     "output_type": "display_data"
    }
   ],
   "source": [
    "# 绘制四川省内不同学历人口分布情况\n",
    "plt.figure(figsize = (8,4),dpi = 100)\n",
    "degree_order = ['未上过学','小学','中学','专科','本科','研究生']\n",
    "sichuan_fig = sns.barplot(data = grouped[grouped['地区'] =='四川'], x = '学历', y = '人数',color = '#FF9933',order = degree_order)\n",
    "sichuan_fig.set_title('四川省不同学历人口分布情况',pad = 12)"
   ]
  },
  {
   "cell_type": "markdown",
   "id": "608c53f1-7648-4ac8-95b0-97554ede3324",
   "metadata": {},
   "source": [
    "#### 2. 四川省学历分布与全国平均水平对比"
   ]
  },
  {
   "cell_type": "code",
   "execution_count": 21,
   "id": "8c63e6ab-325f-4fd8-a9e9-35116ee117dd",
   "metadata": {},
   "outputs": [],
   "source": [
    "# 获取绘图所需数据\n",
    "whole_average = grouped.groupby('学历')['人数'].mean()\n",
    "sichuan_data = grouped[grouped['地区'] == '四川'].copy()"
   ]
  },
  {
   "cell_type": "code",
   "execution_count": 38,
   "id": "5914c22f-d8c4-4795-842a-933b53d3419a",
   "metadata": {},
   "outputs": [
    {
     "data": {
      "image/png": "[encoded data removed]",
      "text/plain": [
       "<Figure size 1000x500 with 1 Axes>"
      ]
     },
     "metadata": {},
     "output_type": "display_data"
    }
   ],
   "source": [
    "# 绘制四川省学历分布与全国平均水平对比图\n",
    "plt.figure(figsize = (10,5))\n",
    "# 四川省的学历分布\n",
    "degree_order = ['未上过学','小学','中学','专科','本科','研究生']\n",
    "degree_sichuan = sns.barplot(data = sichuan_data, x = '学历', y = '人数', label = '四川省',color = '#FF9933')\n",
    "# 添加全国平均线\n",
    "whole_average = whole_average.reindex(degree_order)\n",
    "whole_average.plot(kind='line', marker='o', ax=degree_sichuan, label='全国平均',color = '#33CCCC')\n",
    "# 设置图表标题和标签字体大小\n",
    "plt.title('四川省与全国学历人口分布对比', fontsize=16,pad = 12)\n",
    "plt.xlabel('学历', fontsize=14)\n",
    "plt.ylabel('人数', fontsize=14)\n",
    "# 设置图例\n",
    "plt.legend()\n",
    "# 显示图表\n",
    "plt.show()"
   ]
  },
  {
   "cell_type": "markdown",
   "id": "671ff722-6683-4673-9306-1082feb28dda",
   "metadata": {},
   "source": [
    "    由上图可知，四川省未上过学、小学学历、中学学历和本科学历的人口都高于全国平均水平，专科和研究生学历层次的人口与全国平均水平相当。"
   ]
  },
  {
   "cell_type": "markdown",
   "id": "3591e9a5-9740-4bb3-9a70-a04b70449240",
   "metadata": {},
   "source": [
    "### （二）全国不同学历层次人口分布的性别差异"
   ]
  },
  {
   "cell_type": "code",
   "execution_count": 27,
   "id": "4ce5c0c8-7303-4d77-86bb-889d22a22720",
   "metadata": {},
   "outputs": [],
   "source": [
    "grouped2 = education_data.groupby(['学历','性别'])['人数'].sum().reset_index()"
   ]
  },
  {
   "cell_type": "code",
   "execution_count": 28,
   "id": "5213ffab-43fe-4345-a8be-2ef880e11014",
   "metadata": {},
   "outputs": [
    {
     "data": {
      "text/html": [
       "<div>\n",
       "<style scoped>\n",
       "    .dataframe tbody tr th:only-of-type {\n",
       "        vertical-align: middle;\n",
       "    }\n",
       "\n",
       "    .dataframe tbody tr th {\n",
       "        vertical-align: top;\n",
       "    }\n",
       "\n",
       "    .dataframe thead th {\n",
       "        text-align: right;\n",
       "    }\n",
       "</style>\n",
       "<table border=\"1\" class=\"dataframe\">\n",
       "  <thead>\n",
       "    <tr style=\"text-align: right;\">\n",
       "      <th></th>\n",
       "      <th>学历</th>\n",
       "      <th>性别</th>\n",
       "      <th>人数</th>\n",
       "    </tr>\n",
       "  </thead>\n",
       "  <tbody>\n",
       "    <tr>\n",
       "      <th>0</th>\n",
       "      <td>专科</td>\n",
       "      <td>女</td>\n",
       "      <td>63655</td>\n",
       "    </tr>\n",
       "    <tr>\n",
       "      <th>1</th>\n",
       "      <td>专科</td>\n",
       "      <td>男</td>\n",
       "      <td>70294</td>\n",
       "    </tr>\n",
       "    <tr>\n",
       "      <th>2</th>\n",
       "      <td>中学</td>\n",
       "      <td>女</td>\n",
       "      <td>315358</td>\n",
       "    </tr>\n",
       "    <tr>\n",
       "      <th>3</th>\n",
       "      <td>中学</td>\n",
       "      <td>男</td>\n",
       "      <td>375485</td>\n",
       "    </tr>\n",
       "    <tr>\n",
       "      <th>4</th>\n",
       "      <td>小学</td>\n",
       "      <td>女</td>\n",
       "      <td>188341</td>\n",
       "    </tr>\n",
       "    <tr>\n",
       "      <th>5</th>\n",
       "      <td>小学</td>\n",
       "      <td>男</td>\n",
       "      <td>167013</td>\n",
       "    </tr>\n",
       "    <tr>\n",
       "      <th>6</th>\n",
       "      <td>未上过学</td>\n",
       "      <td>女</td>\n",
       "      <td>36446</td>\n",
       "    </tr>\n",
       "    <tr>\n",
       "      <th>7</th>\n",
       "      <td>未上过学</td>\n",
       "      <td>男</td>\n",
       "      <td>14951</td>\n",
       "    </tr>\n",
       "    <tr>\n",
       "      <th>8</th>\n",
       "      <td>本科</td>\n",
       "      <td>女</td>\n",
       "      <td>57883</td>\n",
       "    </tr>\n",
       "    <tr>\n",
       "      <th>9</th>\n",
       "      <td>本科</td>\n",
       "      <td>男</td>\n",
       "      <td>60676</td>\n",
       "    </tr>\n",
       "    <tr>\n",
       "      <th>10</th>\n",
       "      <td>研究生</td>\n",
       "      <td>女</td>\n",
       "      <td>6187</td>\n",
       "    </tr>\n",
       "    <tr>\n",
       "      <th>11</th>\n",
       "      <td>研究生</td>\n",
       "      <td>男</td>\n",
       "      <td>6727</td>\n",
       "    </tr>\n",
       "  </tbody>\n",
       "</table>\n",
       "</div>"
      ],
      "text/plain": [
       "      学历 性别      人数\n",
       "0     专科  女   63655\n",
       "1     专科  男   70294\n",
       "2     中学  女  315358\n",
       "3     中学  男  375485\n",
       "4     小学  女  188341\n",
       "5     小学  男  167013\n",
       "6   未上过学  女   36446\n",
       "7   未上过学  男   14951\n",
       "8     本科  女   57883\n",
       "9     本科  男   60676\n",
       "10   研究生  女    6187\n",
       "11   研究生  男    6727"
      ]
     },
     "execution_count": 28,
     "metadata": {},
     "output_type": "execute_result"
    }
   ],
   "source": [
    "grouped2"
   ]
  },
  {
   "cell_type": "code",
   "execution_count": 41,
   "id": "b454555a-f768-4577-b15f-60f7543b8e60",
   "metadata": {},
   "outputs": [
    {
     "data": {
      "text/plain": [
       "Text(0.5, 1.0, '全国不同学历层次人口数量性别差异')"
      ]
     },
     "execution_count": 41,
     "metadata": {},
     "output_type": "execute_result"
    },
    {
     "data": {
      "image/png": "[encoded data removed]",
      "text/plain": [
       "<Figure size 800x400 with 1 Axes>"
      ]
     },
     "metadata": {},
     "output_type": "display_data"
    }
   ],
   "source": [
    "# 绘制不同学历层次的人数分布性别差异\n",
    "plt.figure(figsize = (8,4), dpi = 100)\n",
    "sns.barplot(data = grouped2, x = '学历', y = '人数', hue = '性别',palette = {'女':'#fdcdd0','男':'#c1d1e1'})\n",
    "plt.title('全国不同学历层次人口数量性别差异',pad = 12)"
   ]
  },
  {
   "cell_type": "markdown",
   "id": "3f84735f-8fbe-4b56-ae50-3f4994dac8f8",
   "metadata": {},
   "source": [
    "    由上图可知，学历仅为“未上过学”和“小学”的人口中，女性多于男性。学历为“中学”和“专科”的人口中，女性少于男性。而学历为“本科”和“研究生”的人口中，女性基本与男性持平，但是整体上数量仍然略低于男性"
   ]
  },
  {
   "cell_type": "code",
   "execution_count": null,
   "id": "04554ff7-e616-42ad-a839-b5de2e00238e",
   "metadata": {},
   "outputs": [],
   "source": []
  }
 ],
 "metadata": {
  "kernelspec": {
   "display_name": "Python 3 (ipykernel)",
   "language": "python",
   "name": "python3"
  },
  "language_info": {
   "codemirror_mode": {
    "name": "ipython",
    "version": 3
   },
   "file_extension": ".py",
   "mimetype": "text/x-python",
   "name": "python",
   "nbconvert_exporter": "python",
   "pygments_lexer": "ipython3",
   "version": "3.12.3"
  }
 },
 "nbformat": 4,
 "nbformat_minor": 5
}
